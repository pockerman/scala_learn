{
 "cells": [
  {
   "cell_type": "markdown",
   "metadata": {},
   "source": [
    "# Item: Collections"
   ]
  },
  {
   "cell_type": "markdown",
   "metadata": {},
   "source": [
    "In this part of the notes  we review Scala collections.  Scala has a rich hierarchy of collection classes. Scala collections are a set of containers and data structures that are used throughout Scala programs. To a large extent collections in Scala are grouped as mutable and immutable collections. We won't go over in depth of Scala collections "
   ]
  },
  {
   "cell_type": "markdown",
   "metadata": {},
   "source": [
    "A collection can be ```Iterable``` which means we can iterate over its elements. In this respect, we have the following subclasses: "
   ]
  },
  {
   "cell_type": "markdown",
   "metadata": {},
   "source": [
    "- ```Seq```\n",
    "- ```Set```\n",
    "- ```Map```"
   ]
  },
  {
   "cell_type": "markdown",
   "metadata": {},
   "source": [
    "Further down the chain we have ```IndexedSeq``` i.e. allow random access and ```LinearSeq``` i.e sequential access. As mentiones"
   ]
  },
  {
   "cell_type": "markdown",
   "metadata": {},
   "source": [
    "All collection types share a common set of general methods. Core methods are:"
   ]
  },
  {
   "cell_type": "markdown",
   "metadata": {},
   "source": [
    "- ```map```\n",
    "- ```flatMap```\n",
    "- ```filter```\n",
    "- ```foldLeft```\n",
    "- ```foldRight```"
   ]
  }
 ],
 "metadata": {
  "kernelspec": {
   "display_name": "Python 3",
   "language": "python",
   "name": "python3"
  },
  "language_info": {
   "codemirror_mode": {
    "name": "ipython",
    "version": 3
   },
   "file_extension": ".py",
   "mimetype": "text/x-python",
   "name": "python",
   "nbconvert_exporter": "python",
   "pygments_lexer": "ipython3",
   "version": "3.8.5"
  }
 },
 "nbformat": 4,
 "nbformat_minor": 4
}
