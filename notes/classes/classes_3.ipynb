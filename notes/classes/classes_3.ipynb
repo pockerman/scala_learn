{
 "cells": [
  {
   "cell_type": "markdown",
   "metadata": {},
   "source": [
    "# Classes 3"
   ]
  },
  {
   "cell_type": "markdown",
   "metadata": {},
   "source": [
    "* [Overview](#overview)\n",
    "* [Classes 3](#sec1)\n",
    "    * [Primary constructor](#sub_sec_1)\n",
    "    * [Auxiliary constructors](#sub_sec_2)\n",
    "* [References](#refs)"
   ]
  },
  {
   "cell_type": "markdown",
   "metadata": {},
   "source": [
    "## <a name=\"overview\"></a> Overview"
   ]
  },
  {
   "cell_type": "markdown",
   "metadata": {},
   "source": [
    "In this third part regarding Scala classes we review nested classes."
   ]
  },
  {
   "cell_type": "markdown",
   "metadata": {},
   "source": [
    "## <a name=\"sec1\"></a> Classes 3"
   ]
  },
  {
   "cell_type": "markdown",
   "metadata": {},
   "source": [
    "In Scala, you can nest just about anything inside anything [1]. For example we can define functions inside other functions, and classes inside other classes. We discuss the latter feature here. "
   ]
  },
  {
   "cell_type": "code",
   "execution_count": 1,
   "metadata": {},
   "outputs": [
    {
     "data": {
      "text/plain": [
       "\u001b[32mimport \u001b[39m\u001b[36mscala.collection.mutable.ArrayBuffer\u001b[39m"
      ]
     },
     "execution_count": 1,
     "metadata": {},
     "output_type": "execute_result"
    }
   ],
   "source": [
    "import scala.collection.mutable.ArrayBuffer"
   ]
  },
  {
   "cell_type": "code",
   "execution_count": 11,
   "metadata": {},
   "outputs": [
    {
     "data": {
      "text/plain": [
       "defined \u001b[32mclass\u001b[39m \u001b[36mGrid\u001b[39m"
      ]
     },
     "execution_count": 11,
     "metadata": {},
     "output_type": "execute_result"
    }
   ],
   "source": [
    "class Grid{\n",
    "    \n",
    "    class Element(val idx: Int){\n",
    "        \n",
    "        val children = new ArrayBuffer[Element]\n",
    "    }\n",
    "    \n",
    "    private val elements = new ArrayBuffer[Element]\n",
    "    \n",
    "    def addElement() : Unit = {\n",
    "        \n",
    "        val element = new Element(this.elements.size)\n",
    "        elements += element\n",
    "    }\n",
    "    \n",
    "    def addElement(element: Element){\n",
    "        elements += element\n",
    "    }\n",
    "    \n",
    "    def nElements(): Int = this.elements.size\n",
    "}"
   ]
  },
  {
   "cell_type": "code",
   "execution_count": 12,
   "metadata": {},
   "outputs": [
    {
     "data": {
      "text/plain": [
       "\u001b[36mgrid\u001b[39m: \u001b[32mGrid\u001b[39m = ammonite.$sess.cmd10$Helper$Grid@662422e8"
      ]
     },
     "execution_count": 12,
     "metadata": {},
     "output_type": "execute_result"
    }
   ],
   "source": [
    "val grid = new Grid"
   ]
  },
  {
   "cell_type": "code",
   "execution_count": 13,
   "metadata": {},
   "outputs": [],
   "source": [
    "grid.addElement()"
   ]
  },
  {
   "cell_type": "code",
   "execution_count": 14,
   "metadata": {},
   "outputs": [
    {
     "name": "stdout",
     "output_type": "stream",
     "text": [
      " Number of elements 1\n"
     ]
    }
   ],
   "source": [
    "println(\" Number of elements \" + grid.nElements)"
   ]
  },
  {
   "cell_type": "markdown",
   "metadata": {},
   "source": [
    "In Scala, each instance has its own class ```Element``` , just like each instance has its own field members [1]. You can see this below"
   ]
  },
  {
   "cell_type": "code",
   "execution_count": 15,
   "metadata": {},
   "outputs": [
    {
     "data": {
      "text/plain": [
       "\u001b[36mgrid_2\u001b[39m: \u001b[32mGrid\u001b[39m = ammonite.$sess.cmd10$Helper$Grid@6116d1b9"
      ]
     },
     "execution_count": 15,
     "metadata": {},
     "output_type": "execute_result"
    }
   ],
   "source": [
    "val grid_2 = new Grid"
   ]
  },
  {
   "cell_type": "code",
   "execution_count": 15,
   "metadata": {},
   "outputs": [
    {
     "name": "stderr",
     "output_type": "stream",
     "text": [
      "cmd15.sc:1: type mismatch;\n",
      " found   : cmd15.this.cmd14.grid_2.Element\n",
      " required: cmd15.this.cmd11.grid.Element\n",
      "val res15 = grid.addElement(new grid_2.Element(0))\n",
      "                            ^Compilation Failed"
     ]
    },
    {
     "ename": "",
     "evalue": "",
     "output_type": "error",
     "traceback": [
      "Compilation Failed"
     ]
    }
   ],
   "source": [
    "grid.addElement(new grid_2.Element(0))"
   ]
  },
  {
   "cell_type": "markdown",
   "metadata": {},
   "source": [
    "Assuming that ```grid```  holds quad elemennts and ```grid_2``` holds triangular elements this behaviour makes sense. However, we may want to remove this behaviour. We can do this in two ways [1]"
   ]
  },
  {
   "cell_type": "markdown",
   "metadata": {},
   "source": [
    "- Use a companion object\n",
    "- Use type projection"
   ]
  },
  {
   "cell_type": "code",
   "execution_count": 16,
   "metadata": {},
   "outputs": [
    {
     "data": {
      "text/plain": [
       "defined \u001b[32mobject\u001b[39m \u001b[36mGrid\u001b[39m"
      ]
     },
     "execution_count": 16,
     "metadata": {},
     "output_type": "execute_result"
    }
   ],
   "source": [
    "object Grid{\n",
    "    \n",
    "     class Element(val idx: Int){\n",
    "        \n",
    "        val children = new ArrayBuffer[Element]\n",
    "    }\n",
    "    \n",
    "}"
   ]
  },
  {
   "cell_type": "code",
   "execution_count": 17,
   "metadata": {},
   "outputs": [
    {
     "data": {
      "text/plain": [
       "defined \u001b[32mclass\u001b[39m \u001b[36mGrid\u001b[39m"
      ]
     },
     "execution_count": 17,
     "metadata": {},
     "output_type": "execute_result"
    }
   ],
   "source": [
    "class Grid{\n",
    "    \n",
    "    private val elements = new ArrayBuffer[Grid.Element]\n",
    "    \n",
    "    def addElement() : Unit = {\n",
    "        \n",
    "        val element = new Grid.Element(this.elements.size)\n",
    "        elements += element\n",
    "    }\n",
    "    \n",
    "    def addElement(element: Grid.Element){\n",
    "        elements += element\n",
    "    }\n",
    "    \n",
    "    def nElements(): Int = this.elements.size\n",
    "}"
   ]
  },
  {
   "cell_type": "markdown",
   "metadata": {},
   "source": [
    "With type projection, we write our class as shown below\n"
   ]
  },
  {
   "cell_type": "code",
   "execution_count": 20,
   "metadata": {},
   "outputs": [
    {
     "data": {
      "text/plain": [
       "defined \u001b[32mclass\u001b[39m \u001b[36mGrid\u001b[39m"
      ]
     },
     "execution_count": 20,
     "metadata": {},
     "output_type": "execute_result"
    }
   ],
   "source": [
    "class Grid{\n",
    "    \n",
    "    class Element(val idx: Int){\n",
    "        \n",
    "        val children = new ArrayBuffer[Element]\n",
    "    }\n",
    "    \n",
    "    private val elements = new ArrayBuffer[Element]\n",
    "    \n",
    "    def addElement() : Unit = {\n",
    "        \n",
    "        val element = new Element(this.elements.size)\n",
    "        elements += element\n",
    "    }\n",
    "    \n",
    "    def addElement(element: Element){\n",
    "        elements += element\n",
    "    }\n",
    "    \n",
    "    def nElements(): Int = this.elements.size\n",
    "}"
   ]
  },
  {
   "cell_type": "markdown",
   "metadata": {},
   "source": [
    "Type projection means, for our case, ```Element``` from any ```Grid```"
   ]
  },
  {
   "cell_type": "code",
   "execution_count": 21,
   "metadata": {},
   "outputs": [
    {
     "data": {
      "text/plain": [
       "\u001b[36mgrid\u001b[39m: \u001b[32mGrid\u001b[39m = ammonite.$sess.cmd19$Helper$Grid@3bc5f2f5\n",
       "\u001b[36mgrid2\u001b[39m: \u001b[32mGrid\u001b[39m = ammonite.$sess.cmd19$Helper$Grid@5f5eafec"
      ]
     },
     "execution_count": 21,
     "metadata": {},
     "output_type": "execute_result"
    }
   ],
   "source": [
    "val grid = new Grid\n",
    "val grid2 = new Grid"
   ]
  },
  {
   "cell_type": "code",
   "execution_count": 21,
   "metadata": {},
   "outputs": [
    {
     "name": "stderr",
     "output_type": "stream",
     "text": [
      "cmd21.sc:1: type mismatch;\n",
      " found   : cmd21.this.cmd14.grid_2.Element\n",
      " required: cmd21.this.cmd20.grid.Element\n",
      "val res21 = grid.addElement(new grid_2.Element(0))\n",
      "                            ^Compilation Failed"
     ]
    },
    {
     "ename": "",
     "evalue": "",
     "output_type": "error",
     "traceback": [
      "Compilation Failed"
     ]
    }
   ],
   "source": [
    "grid.addElement(new grid_2.Element(0))"
   ]
  },
  {
   "cell_type": "markdown",
   "metadata": {},
   "source": [
    "Finally, in a nested class, we can access the ```this``` reference of the enclosing\n",
    "class as ```EnclosingClass.this``` [1]. This is similar to Java. Furthermore, we can establish an alias for that reference as shown below"
   ]
  },
  {
   "cell_type": "code",
   "execution_count": 22,
   "metadata": {},
   "outputs": [
    {
     "data": {
      "text/plain": [
       "defined \u001b[32mclass\u001b[39m \u001b[36mGrid\u001b[39m"
      ]
     },
     "execution_count": 22,
     "metadata": {},
     "output_type": "execute_result"
    }
   ],
   "source": [
    "class Grid{ outer =>\n",
    "    \n",
    "    class Element(val idx: Int){\n",
    "        \n",
    "        val children = new ArrayBuffer[Element]\n",
    "    }\n",
    "    \n",
    "    private val elements = new ArrayBuffer[Element]\n",
    "    \n",
    "    def addElement() : Unit = {\n",
    "        \n",
    "        val element = new Element(this.elements.size)\n",
    "        elements += element\n",
    "    }\n",
    "    \n",
    "    def addElement(element: Element){\n",
    "        elements += element\n",
    "    }\n",
    "    \n",
    "    def nElements(): Int = this.elements.size\n",
    "}"
   ]
  },
  {
   "cell_type": "markdown",
   "metadata": {},
   "source": [
    "The class ```Grid{ outer =>``` syntax makes the variable outer refer to\n",
    "```Grid.this```. Note that we can choose any name for this variable. The name ```self``` is common, but perhaps confusing when used with nested classes [1].\n"
   ]
  },
  {
   "cell_type": "markdown",
   "metadata": {},
   "source": [
    "## <a name=\"refs\"></a> References"
   ]
  },
  {
   "cell_type": "markdown",
   "metadata": {},
   "source": [
    "1. Cay Horstmann, ```Scala for the Impatient 1st Edition```"
   ]
  }
 ],
 "metadata": {
  "kernelspec": {
   "display_name": "Scala",
   "language": "scala",
   "name": "scala"
  },
  "language_info": {
   "codemirror_mode": "text/x-scala",
   "file_extension": ".sc",
   "mimetype": "text/x-scala",
   "name": "scala",
   "nbconvert_exporter": "script",
   "version": "2.13.3"
  }
 },
 "nbformat": 4,
 "nbformat_minor": 4
}
