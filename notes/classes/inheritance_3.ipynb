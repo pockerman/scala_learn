{
 "cells": [
  {
   "cell_type": "markdown",
   "metadata": {},
   "source": [
    "# Inheritance 3"
   ]
  },
  {
   "cell_type": "markdown",
   "metadata": {},
   "source": [
    "Figure 8–1 shows the inheritance hierarchy of Scala classes. The classes that\n",
    "correspond to the primitive types in Java, as well as the type Unit , extend AnyVal .\n",
    "All other classes are subclasses of the AnyRef class, which is a synonym for the\n",
    "Object class from the Java or .NET virtual machine.\n",
    "Both AnyVal and AnyRef extend the Any class, the root of the hierarchy."
   ]
  },
  {
   "cell_type": "markdown",
   "metadata": {},
   "source": [
    "The Any class deﬁnes methods isInstanceOf , asInstanceOf , and the methods for\n",
    "equality and hash codes that we will look at in Section 8.12, “Object Equality,”\n",
    "on page 97."
   ]
  },
  {
   "cell_type": "markdown",
   "metadata": {},
   "source": [
    "AnyVal does not add any methods. It is just a marker for value types."
   ]
  },
  {
   "cell_type": "markdown",
   "metadata": {},
   "source": [
    "The AnyRef class adds the monitor methods wait and notify / notifyAll from the Object\n",
    "class. It also provides a synchronized method with a function parameter. That\n",
    "method is the equivalent of a synchronized block in Java"
   ]
  },
  {
   "cell_type": "markdown",
   "metadata": {},
   "source": [
    "All Scala classes implement the marker interface ScalaObject , which has no methods.\n",
    "At the other end of the hierarchy are the Nothing and Null types.\n",
    "Null is the type whose sole instance is the value null . You can assign null to any\n",
    "reference, but not to one of the value types. For example, setting an Int to null is\n",
    "not possible. This is better than in Java, where it would be possible to set an Integer\n",
    "wrapper to null ."
   ]
  },
  {
   "cell_type": "markdown",
   "metadata": {},
   "source": [
    "The Nothing type has no instances. It is occasionally useful for generic constructs.\n",
    "For example, the empty list Nil has type List[Nothing] , which is a subtype of\n",
    "List[T] for any T ."
   ]
  },
  {
   "cell_type": "markdown",
   "metadata": {},
   "source": [
    "CAUTION: The Nothing type is not at all the same as void in Java or C++. In\n",
    "Scala, void is represented by the Unit type, the type with the sole value ().\n",
    "Note that Unit is not a supertype of any other type. However, the compiler still\n",
    "allows any value to be replaced by a (). Consider\n",
    "def printAny(x: Any) { println(x) }\n",
    "def printUnit(x: Unit) { println(x) }\n",
    "printAny(\"Hello\") // Prints Hello\n",
    "printUnit(\"Hello\")\n",
    "// Replaces \"Hello\" with () and calls printUnit(()), which prints ()"
   ]
  },
  {
   "cell_type": "markdown",
   "metadata": {},
   "source": [
    "### Object Equality"
   ]
  },
  {
   "cell_type": "markdown",
   "metadata": {},
   "source": [
    "In Scala, the eq method of the AnyRef class checks whether two references refer to\n",
    "the same object. The equals method in AnyRef calls eq . When you implement a class,\n",
    "you should consider overriding the equals method to provide a natural notion of\n",
    "equality for your situation."
   ]
  },
  {
   "cell_type": "markdown",
   "metadata": {},
   "source": [
    "For example, if you deﬁne a class Item(val description: String, val price: Double) ,\n",
    "you might want to consider two items equal if they have the same description\n",
    "and price. Here is an appropriate equals method:"
   ]
  },
  {
   "cell_type": "markdown",
   "metadata": {},
   "source": [
    "```\n",
    "final override def equals(other: Any) = {\n",
    "val that = other.asInstanceOf[Item]\n",
    "if (that == null) false\n",
    "else description == that.description && price == that.price\n",
    "}\n",
    "```"
   ]
  },
  {
   "cell_type": "markdown",
   "metadata": {},
   "source": [
    "```\n",
    "NOTE: We deﬁned the method as final because it is generally very difﬁcult\n",
    "to correctly extend equality in a subclass. The problem is symmetry.You want\n",
    "a.equals(b) to have the same result as b.equals(a), even when b belongs to\n",
    "a subclass.\n",
    "```"
   ]
  },
  {
   "cell_type": "markdown",
   "metadata": {},
   "source": [
    "CAUTION: Be sure to deﬁne the equals method with parameter type Any. The\n",
    "following would be wrong:\n",
    "final def equals(other: Item) = { ... }\n",
    "This is a different method that does not override the equals method of AnyRef."
   ]
  },
  {
   "cell_type": "markdown",
   "metadata": {},
   "source": [
    "When you deﬁne equals , remember to deﬁne hashCode as well. The hash code should\n",
    "be computed only from the ﬁelds that you use in the equality check. In the Item\n",
    "example, combine the hash codes of the ﬁelds:"
   ]
  },
  {
   "cell_type": "markdown",
   "metadata": {},
   "source": [
    "In an application program, you don’t generally call eq or equals . Simply use the\n",
    "== operator. For reference types, it calls equals after doing the appropriate check\n",
    "for null operands."
   ]
  },
  {
   "cell_type": "code",
   "execution_count": null,
   "metadata": {},
   "outputs": [],
   "source": []
  }
 ],
 "metadata": {
  "kernelspec": {
   "display_name": "Scala",
   "language": "scala",
   "name": "scala"
  },
  "language_info": {
   "codemirror_mode": "text/x-scala",
   "file_extension": ".sc",
   "mimetype": "text/x-scala",
   "name": "scala",
   "nbconvert_exporter": "script",
   "version": "2.13.3"
  }
 },
 "nbformat": 4,
 "nbformat_minor": 4
}
