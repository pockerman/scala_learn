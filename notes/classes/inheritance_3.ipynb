{
 "cells": [
  {
   "cell_type": "markdown",
   "metadata": {},
   "source": [
    "# Inheritance 3"
   ]
  },
  {
   "cell_type": "markdown",
   "metadata": {},
   "source": [
    "* [Overview](#overview)\n",
    "* [Inheritance 3](#sec1)\n",
    "    * [Object equality](#sub_sec_1)\n",
    "* [References](#refs)"
   ]
  },
  {
   "cell_type": "markdown",
   "metadata": {},
   "source": [
    "## <a name=\"overview\"></a> Overview"
   ]
  },
  {
   "cell_type": "markdown",
   "metadata": {},
   "source": [
    "In the third section of inheritance in Scala we will look at object equality."
   ]
  },
  {
   "cell_type": "markdown",
   "metadata": {},
   "source": [
    "##  <a name=\"sec1\"></a> Inheritance 3"
   ]
  },
  {
   "cell_type": "markdown",
   "metadata": {},
   "source": [
    "Figure 8–1 shows the inheritance hierarchy of Scala classes. The classes that\n",
    "correspond to the primitive types in Java, as well as the type Unit , extend AnyVal .\n",
    "All other classes are subclasses of the AnyRef class, which is a synonym for the\n",
    "Object class from the Java or .NET virtual machine.\n",
    "Both AnyVal and AnyRef extend the Any class, the root of the hierarchy."
   ]
  },
  {
   "cell_type": "markdown",
   "metadata": {},
   "source": [
    "The Any class deﬁnes methods isInstanceOf , asInstanceOf , and the methods for\n",
    "equality and hash codes that we will look at in Section 8.12, “Object Equality,”\n",
    "on page 97."
   ]
  },
  {
   "cell_type": "markdown",
   "metadata": {},
   "source": [
    "AnyVal does not add any methods. It is just a marker for value types."
   ]
  },
  {
   "cell_type": "markdown",
   "metadata": {},
   "source": [
    "The AnyRef class adds the monitor methods wait and notify / notifyAll from the Object\n",
    "class. It also provides a synchronized method with a function parameter. That\n",
    "method is the equivalent of a synchronized block in Java"
   ]
  },
  {
   "cell_type": "markdown",
   "metadata": {},
   "source": [
    "All Scala classes implement the marker interface ScalaObject , which has no methods.\n",
    "At the other end of the hierarchy are the Nothing and Null types.\n",
    "Null is the type whose sole instance is the value null . You can assign null to any\n",
    "reference, but not to one of the value types. For example, setting an Int to null is\n",
    "not possible. This is better than in Java, where it would be possible to set an Integer\n",
    "wrapper to null ."
   ]
  },
  {
   "cell_type": "markdown",
   "metadata": {},
   "source": [
    "The Nothing type has no instances. It is occasionally useful for generic constructs.\n",
    "For example, the empty list Nil has type List[Nothing] , which is a subtype of\n",
    "List[T] for any T ."
   ]
  },
  {
   "cell_type": "markdown",
   "metadata": {},
   "source": [
    "CAUTION: The Nothing type is not at all the same as void in Java or C++. In\n",
    "Scala, void is represented by the Unit type, the type with the sole value ().\n",
    "Note that Unit is not a supertype of any other type. However, the compiler still\n",
    "allows any value to be replaced by a (). Consider\n",
    "def printAny(x: Any) { println(x) }\n",
    "def printUnit(x: Unit) { println(x) }\n",
    "printAny(\"Hello\") // Prints Hello\n",
    "printUnit(\"Hello\")\n",
    "// Replaces \"Hello\" with () and calls printUnit(()), which prints ()"
   ]
  },
  {
   "cell_type": "markdown",
   "metadata": {},
   "source": [
    "### <a name=\"sub_sec_1\"></a> Object equality"
   ]
  },
  {
   "cell_type": "markdown",
   "metadata": {},
   "source": [
    "The ```AnyRef``` class exposes an ```eq``` method that checks whether two references refer to the same object. Moreover, the ```equals``` method in ```AnyRef``` class calls ```eq``` [1]. "
   ]
  },
  {
   "cell_type": "markdown",
   "metadata": {},
   "source": [
    "A user create class may have to implement its own semantics of equality. In this case, we should override the ```equals``` method. Let's see an example."
   ]
  },
  {
   "cell_type": "code",
   "execution_count": 1,
   "metadata": {},
   "outputs": [
    {
     "data": {
      "text/plain": [
       "defined \u001b[32mclass\u001b[39m \u001b[36mItem\u001b[39m"
      ]
     },
     "execution_count": 1,
     "metadata": {},
     "output_type": "execute_result"
    }
   ],
   "source": [
    "class Item(val desc: String, val price: Double){\n",
    "    \n",
    "    override def equals(other: Any) = {\n",
    "        \n",
    "        val that = other.asInstanceOf[Item]\n",
    "        \n",
    "        if(that == null) false\n",
    "        else desc == that.desc && price == that.price\n",
    "    }\n",
    "}"
   ]
  },
  {
   "cell_type": "code",
   "execution_count": 2,
   "metadata": {},
   "outputs": [
    {
     "data": {
      "text/plain": [
       "defined \u001b[32mclass\u001b[39m \u001b[36mDefaultItem\u001b[39m"
      ]
     },
     "execution_count": 2,
     "metadata": {},
     "output_type": "execute_result"
    }
   ],
   "source": [
    "class DefaultItem extends Item(\"Default\", 10.0){\n",
    "    \n",
    "    override def equals(other: Any) = {\n",
    "        \n",
    "        val that = other.asInstanceOf[DefaultItem]\n",
    "        \n",
    "        // only DefaultItem s should be equal\n",
    "        if(that == null) false\n",
    "        \n",
    "        true\n",
    "    }\n",
    "    \n",
    "}"
   ]
  },
  {
   "cell_type": "code",
   "execution_count": 7,
   "metadata": {},
   "outputs": [
    {
     "data": {
      "text/plain": [
       "\u001b[36mitem1\u001b[39m: \u001b[32mItem\u001b[39m = ammonite.$sess.cmd0$Helper$Item@5d2db9d1\n",
       "\u001b[36mitem2\u001b[39m: \u001b[32mItem\u001b[39m = ammonite.$sess.cmd0$Helper$Item@78f9e485\n",
       "\u001b[36mitem3\u001b[39m: \u001b[32mItem\u001b[39m = ammonite.$sess.cmd0$Helper$Item@515e3fee\n",
       "\u001b[36mitem4\u001b[39m: \u001b[32mDefaultItem\u001b[39m = ammonite.$sess.cmd1$Helper$DefaultItem@6b3e6a27"
      ]
     },
     "execution_count": 7,
     "metadata": {},
     "output_type": "execute_result"
    }
   ],
   "source": [
    "val item1 = new Item(\"Item1\", 10.0)\n",
    "val item2 = new Item(\"Item2\", 10.0)\n",
    "val item3 = new Item(\"Item1\", 10.0)\n",
    "val item4 = new DefaultItem"
   ]
  },
  {
   "cell_type": "markdown",
   "metadata": {},
   "source": [
    "Let's do some memory comparisons first"
   ]
  },
  {
   "cell_type": "code",
   "execution_count": 8,
   "metadata": {},
   "outputs": [
    {
     "name": "stdout",
     "output_type": "stream",
     "text": [
      "Item Item1 is equal to Item1\n",
      "Item Item1 is equal to Item1\n"
     ]
    }
   ],
   "source": [
    "// should not print anything\n",
    "if (item1 == item2) println(\"Item \" + item1.desc + \" is equal to \" + item2.desc)\n",
    "\n",
    "//...same as above\n",
    "if (item1 == item3) println(\"Item \" + item1.desc + \" is equal to \" + item3.desc)\n",
    "\n",
    "// should print message\n",
    "if (item1 == item1) println(\"Item \" + item1.desc + \" is equal to \" + item1.desc)"
   ]
  },
  {
   "cell_type": "code",
   "execution_count": 10,
   "metadata": {},
   "outputs": [
    {
     "name": "stdout",
     "output_type": "stream",
     "text": [
      "Item Item1 is equal to Item1\n"
     ]
    }
   ],
   "source": [
    "// should not print anything\n",
    "if (item1.equals(item2)) println(\"Item \" + item1.desc + \" is equal to \" + item2.desc)\n",
    "\n",
    "//...same as above\n",
    "if (item1.equals(item3)) println(\"Item \" + item1.desc + \" is equal to \" + item3.desc)\n",
    "\n",
    "// should print message\n",
    "//if (item4.equals(item1)) println(\"Item \" + item4.desc + \" is equal to \" + item1.desc)"
   ]
  },
  {
   "cell_type": "markdown",
   "metadata": {},
   "source": [
    "---\n",
    "**Remark**"
   ]
  },
  {
   "cell_type": "markdown",
   "metadata": {},
   "source": [
    "In general, we deﬁne the method as ```final``` (not done above) because it is generally very difﬁcult\n",
    "to correctly extend equality in a subclass. The problem is symmetry.You want\n",
    "```a.equals(b)``` to have the same result as ```b.equals(a)```, even when ```b``` belongs to\n",
    "a subclass.\n",
    "\n",
    "---"
   ]
  },
  {
   "cell_type": "markdown",
   "metadata": {},
   "source": [
    "---\n",
    "**Remark** "
   ]
  },
  {
   "cell_type": "markdown",
   "metadata": {},
   "source": [
    "Make sure to deﬁne the equals method with parameter type ```Any```. The\n",
    "following would be wrong [1]:\n",
    "```\n",
    "final def equals(other: Item) = { ... }\n",
    "\n",
    "```\n",
    "\n",
    "This is a different method that does not override the equals method of ```AnyRef```.\n",
    "\n",
    "---"
   ]
  },
  {
   "cell_type": "markdown",
   "metadata": {},
   "source": [
    "When you deﬁne equals , remember to deﬁne ```hashCode``` as well. The hash code should\n",
    "be computed only from the ﬁelds that you use in the equality check. "
   ]
  },
  {
   "cell_type": "markdown",
   "metadata": {},
   "source": [
    "In an application program, you don’t generally call eq or equals . Simply use the\n",
    "```==``` operator. For reference types, it calls equals after doing the appropriate check\n",
    "for null operands [1]."
   ]
  },
  {
   "cell_type": "markdown",
   "metadata": {},
   "source": [
    "## <a name=\"refs\"></a> References"
   ]
  },
  {
   "cell_type": "markdown",
   "metadata": {},
   "source": [
    "1. Cay Horstmann, ```Scala for the Impatient 1st Edition```"
   ]
  }
 ],
 "metadata": {
  "kernelspec": {
   "display_name": "Scala",
   "language": "scala",
   "name": "scala"
  },
  "language_info": {
   "codemirror_mode": "text/x-scala",
   "file_extension": ".sc",
   "mimetype": "text/x-scala",
   "name": "scala",
   "nbconvert_exporter": "script",
   "version": "2.13.3"
  }
 },
 "nbformat": 4,
 "nbformat_minor": 4
}
