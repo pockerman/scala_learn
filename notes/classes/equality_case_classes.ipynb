{
 "cells": [
  {
   "cell_type": "markdown",
   "metadata": {},
   "source": [
    "# Equality & Case Classes"
   ]
  },
  {
   "cell_type": "markdown",
   "metadata": {},
   "source": [
    "## <a name=\"sec3\"></a> Overview"
   ]
  },
  {
   "cell_type": "markdown",
   "metadata": {},
   "source": [
    "## <a name=\"sec3\"></a> Equality & Case Classes"
   ]
  },
  {
   "cell_type": "markdown",
   "metadata": {},
   "source": [
    "We now come to the point of instances equality. Let's consider the class"
   ]
  },
  {
   "cell_type": "code",
   "execution_count": 1,
   "metadata": {},
   "outputs": [
    {
     "data": {
      "text/plain": [
       "defined \u001b[32mclass\u001b[39m \u001b[36mC\u001b[39m"
      ]
     },
     "execution_count": 1,
     "metadata": {},
     "output_type": "execute_result"
    }
   ],
   "source": [
    "class C(val x: Int)"
   ]
  },
  {
   "cell_type": "code",
   "execution_count": 2,
   "metadata": {},
   "outputs": [
    {
     "data": {
      "text/plain": [
       "\u001b[36mx\u001b[39m: \u001b[32mC\u001b[39m = ammonite.$sess.cmd0$Helper$C@59c3e560\n",
       "\u001b[36my\u001b[39m: \u001b[32mC\u001b[39m = ammonite.$sess.cmd0$Helper$C@2a680e28"
      ]
     },
     "execution_count": 2,
     "metadata": {},
     "output_type": "execute_result"
    }
   ],
   "source": [
    "val x = new C(1)\n",
    "val y = new C(2)"
   ]
  },
  {
   "cell_type": "code",
   "execution_count": 3,
   "metadata": {},
   "outputs": [
    {
     "data": {
      "text/plain": [
       "\u001b[36mres2\u001b[39m: \u001b[32mBoolean\u001b[39m = false"
      ]
     },
     "execution_count": 3,
     "metadata": {},
     "output_type": "execute_result"
    }
   ],
   "source": [
    "x == y"
   ]
  },
  {
   "cell_type": "markdown",
   "metadata": {},
   "source": [
    "When we mark a class with the ```case``` keyword we get the following from the compiler"
   ]
  },
  {
   "cell_type": "markdown",
   "metadata": {},
   "source": [
    "- ```equals``` and ```hashCode``` which compare classes by fields\n",
    "- A ```toString``` method which will output the fields\n",
    "- A ```copy``` method, which will allow you to create a copy of the class, with some of the fields changed\n",
    "- All parameter constructors will become class fields; we do not need to write ```val```\n",
    "- The companion object of a class with the ```apply``` method for constructor shortcuts and ```unapply``` method (for deconstruction in case patterns)"
   ]
  },
  {
   "cell_type": "code",
   "execution_count": 10,
   "metadata": {},
   "outputs": [
    {
     "data": {
      "text/plain": [
       "defined \u001b[32mclass\u001b[39m \u001b[36mX\u001b[39m"
      ]
     },
     "execution_count": 10,
     "metadata": {},
     "output_type": "execute_result"
    }
   ],
   "source": [
    "case class X(x: Int)"
   ]
  },
  {
   "cell_type": "code",
   "execution_count": 14,
   "metadata": {},
   "outputs": [
    {
     "data": {
      "text/plain": [
       "\u001b[36mx\u001b[39m: \u001b[32mX\u001b[39m = \u001b[33mX\u001b[39m(\u001b[32m1\u001b[39m)\n",
       "\u001b[36my\u001b[39m: \u001b[32mX\u001b[39m = \u001b[33mX\u001b[39m(\u001b[32m2\u001b[39m)\n",
       "\u001b[36mw\u001b[39m: \u001b[32mX\u001b[39m = \u001b[33mX\u001b[39m(\u001b[32m1\u001b[39m)"
      ]
     },
     "execution_count": 14,
     "metadata": {},
     "output_type": "execute_result"
    }
   ],
   "source": [
    "val x =  X(1)\n",
    "val y =  X(2)\n",
    "val w =  X(1)"
   ]
  },
  {
   "cell_type": "code",
   "execution_count": 15,
   "metadata": {},
   "outputs": [
    {
     "data": {
      "text/plain": [
       "\u001b[36mres14_0\u001b[39m: \u001b[32mBoolean\u001b[39m = false\n",
       "\u001b[36mres14_1\u001b[39m: \u001b[32mBoolean\u001b[39m = true"
      ]
     },
     "execution_count": 15,
     "metadata": {},
     "output_type": "execute_result"
    }
   ],
   "source": [
    "x == y\n",
    "x == w"
   ]
  },
  {
   "cell_type": "code",
   "execution_count": 16,
   "metadata": {},
   "outputs": [
    {
     "name": "stdout",
     "output_type": "stream",
     "text": [
      "X(5)\n"
     ]
    },
    {
     "data": {
      "text/plain": [
       "\u001b[36mz\u001b[39m: \u001b[32mX\u001b[39m = \u001b[33mX\u001b[39m(\u001b[32m5\u001b[39m)"
      ]
     },
     "execution_count": 16,
     "metadata": {},
     "output_type": "execute_result"
    }
   ],
   "source": [
    "val z = x.copy(x=5)\n",
    "println(z.toString)"
   ]
  },
  {
   "cell_type": "code",
   "execution_count": 17,
   "metadata": {},
   "outputs": [
    {
     "data": {
      "text/plain": [
       "defined \u001b[32mclass\u001b[39m \u001b[36mPoint\u001b[39m"
      ]
     },
     "execution_count": 17,
     "metadata": {},
     "output_type": "execute_result"
    }
   ],
   "source": [
    "class Point(val x: Int, val y: Int)"
   ]
  },
  {
   "cell_type": "code",
   "execution_count": 18,
   "metadata": {},
   "outputs": [
    {
     "data": {
      "text/plain": [
       "\u001b[36mp1\u001b[39m: \u001b[32mPoint\u001b[39m = ammonite.$sess.cmd16$Helper$Point@4594eb70\n",
       "\u001b[36mp2\u001b[39m: \u001b[32mPoint\u001b[39m = ammonite.$sess.cmd16$Helper$Point@22d5e7d2"
      ]
     },
     "execution_count": 18,
     "metadata": {},
     "output_type": "execute_result"
    }
   ],
   "source": [
    "val p1 = new Point(1, 1)\n",
    "val p2 = new Point(1, 1)"
   ]
  },
  {
   "cell_type": "code",
   "execution_count": 19,
   "metadata": {},
   "outputs": [
    {
     "data": {
      "text/plain": [
       "\u001b[36mres18_0\u001b[39m: \u001b[32mBoolean\u001b[39m = false\n",
       "\u001b[36mres18_1\u001b[39m: \u001b[32mBoolean\u001b[39m = false"
      ]
     },
     "execution_count": 19,
     "metadata": {},
     "output_type": "execute_result"
    }
   ],
   "source": [
    "p1 == p2\n",
    "p1 eq p2"
   ]
  },
  {
   "cell_type": "code",
   "execution_count": 20,
   "metadata": {},
   "outputs": [
    {
     "data": {
      "text/plain": [
       "defined \u001b[32mclass\u001b[39m \u001b[36mCasePoint\u001b[39m"
      ]
     },
     "execution_count": 20,
     "metadata": {},
     "output_type": "execute_result"
    }
   ],
   "source": [
    "case class CasePoint(x: Int, y: Int)"
   ]
  },
  {
   "cell_type": "code",
   "execution_count": 21,
   "metadata": {},
   "outputs": [
    {
     "data": {
      "text/plain": [
       "\u001b[36mcp1\u001b[39m: \u001b[32mCasePoint\u001b[39m = \u001b[33mCasePoint\u001b[39m(\u001b[32m1\u001b[39m, \u001b[32m1\u001b[39m)\n",
       "\u001b[36mcp2\u001b[39m: \u001b[32mCasePoint\u001b[39m = \u001b[33mCasePoint\u001b[39m(\u001b[32m1\u001b[39m, \u001b[32m1\u001b[39m)\n",
       "\u001b[36mres20_2\u001b[39m: \u001b[32mBoolean\u001b[39m = true\n",
       "\u001b[36mres20_3\u001b[39m: \u001b[32mBoolean\u001b[39m = false"
      ]
     },
     "execution_count": 21,
     "metadata": {},
     "output_type": "execute_result"
    }
   ],
   "source": [
    "val cp1 = CasePoint(1,1)\n",
    "val cp2 = CasePoint(1,1)\n",
    "cp1 == cp2\n",
    "cp1 eq cp2"
   ]
  },
  {
   "cell_type": "markdown",
   "metadata": {},
   "source": [
    "## <a name=\"sec3\"></a> Summary"
   ]
  },
  {
   "cell_type": "markdown",
   "metadata": {},
   "source": [
    "## <a name=\"refs\"></a> References"
   ]
  },
  {
   "cell_type": "code",
   "execution_count": null,
   "metadata": {},
   "outputs": [],
   "source": []
  }
 ],
 "metadata": {
  "kernelspec": {
   "display_name": "Scala",
   "language": "scala",
   "name": "scala"
  },
  "language_info": {
   "codemirror_mode": "text/x-scala",
   "file_extension": ".sc",
   "mimetype": "text/x-scala",
   "name": "scala",
   "nbconvert_exporter": "script",
   "version": "2.13.3"
  }
 },
 "nbformat": 4,
 "nbformat_minor": 4
}
