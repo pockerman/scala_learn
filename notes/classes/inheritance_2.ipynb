{
 "cells": [
  {
   "cell_type": "markdown",
   "metadata": {},
   "source": [
    "# Inheritance 2"
   ]
  },
  {
   "cell_type": "markdown",
   "metadata": {},
   "source": [
    "* [Overview](#overview)\n",
    "* [Inheritance 2](#sec1)\n",
    "    * [Overriding methods](#sub_sec_1)\n",
    "    * [Anonymous subclasses](#sub_sec_2)\n",
    "* [References](#refs)"
   ]
  },
  {
   "cell_type": "markdown",
   "metadata": {},
   "source": [
    "## <a name=\"overview\"></a> Overview"
   ]
  },
  {
   "cell_type": "markdown",
   "metadata": {},
   "source": [
    "## <a name=\"sec1\"></a> Inheritance 2"
   ]
  },
  {
   "cell_type": "markdown",
   "metadata": {},
   "source": [
    "As in Java or C++, you can declare a ﬁeld or method as ```protected``` . Such a member is accessible from any subclass, but not from other locations. Unlike in Java, a protected member is not visible throughout the package to which\n",
    "the class belongs. (If you want this visibility, you can use a package modiﬁer)."
   ]
  },
  {
   "cell_type": "code",
   "execution_count": 1,
   "metadata": {},
   "outputs": [
    {
     "data": {
      "text/plain": [
       "defined \u001b[32mclass\u001b[39m \u001b[36mElement\u001b[39m"
      ]
     },
     "execution_count": 1,
     "metadata": {},
     "output_type": "execute_result"
    }
   ],
   "source": [
    "class Element{\n",
    "    \n",
    "    protected def speak = println(\"Hi from element\")\n",
    "    \n",
    "}"
   ]
  },
  {
   "cell_type": "markdown",
   "metadata": {},
   "source": [
    "Recall that a class has one primary constructor and any number\n",
    "of auxiliary constructors, and that all auxiliary constructors must start with a call to a preceding auxiliary constructor or the primary constructor. As a consequence, an auxiliary constructor can never invoke a superclass constructor directly."
   ]
  },
  {
   "cell_type": "markdown",
   "metadata": {},
   "source": [
    "The auxiliary constructors of the subclass eventually call the primary constructor\n",
    "of the subclass. Only the primary constructor can call a superclass constructor. Recall that the primary constructor is intertwined with the class deﬁnition. The\n",
    "call to the superclass constructor is similarly intertwined. Here is an example"
   ]
  },
  {
   "cell_type": "markdown",
   "metadata": {},
   "source": [
    "### Overriding fields"
   ]
  },
  {
   "cell_type": "markdown",
   "metadata": {},
   "source": [
    "A ﬁeld in Scala consists of a private ﬁeld and\n",
    "accessor/mutator methods. You can override a ```val``` (or a parameterless def ) with\n",
    "another ```val``` ﬁeld of the same name. The subclass has a private ﬁeld and a public\n",
    "getter, and the getter overrides the superclass getter (or method)"
   ]
  },
  {
   "cell_type": "code",
   "execution_count": 2,
   "metadata": {},
   "outputs": [
    {
     "data": {
      "text/plain": [
       "defined \u001b[32mclass\u001b[39m \u001b[36mItem\u001b[39m"
      ]
     },
     "execution_count": 2,
     "metadata": {},
     "output_type": "execute_result"
    }
   ],
   "source": [
    "class Item(name: String){\n",
    "    override def toString = getClass.getName + \" \" + name\n",
    "}"
   ]
  },
  {
   "cell_type": "code",
   "execution_count": 3,
   "metadata": {},
   "outputs": [
    {
     "data": {
      "text/plain": [
       "defined \u001b[32mclass\u001b[39m \u001b[36mMilk\u001b[39m"
      ]
     },
     "execution_count": 3,
     "metadata": {},
     "output_type": "execute_result"
    }
   ],
   "source": [
    "class Milk extends Item(\"Milk\")"
   ]
  },
  {
   "cell_type": "code",
   "execution_count": 4,
   "metadata": {},
   "outputs": [
    {
     "name": "stdout",
     "output_type": "stream",
     "text": [
      "ammonite.$sess.cmd2$Helper$Milk Milk\n"
     ]
    },
    {
     "data": {
      "text/plain": [
       "\u001b[36mmilk\u001b[39m: \u001b[32mMilk\u001b[39m = ammonite.$sess.cmd2$Helper$Milk Milk"
      ]
     },
     "execution_count": 4,
     "metadata": {},
     "output_type": "execute_result"
    }
   ],
   "source": [
    "val milk = new Milk\n",
    "println(milk.toString)"
   ]
  },
  {
   "cell_type": "code",
   "execution_count": 4,
   "metadata": {},
   "outputs": [
    {
     "name": "stderr",
     "output_type": "stream",
     "text": [
      "cmd4.sc:2: value name overrides nothing\n",
      "    override val name =\"Flower\"\n",
      "                 ^Compilation Failed"
     ]
    },
    {
     "ename": "",
     "evalue": "",
     "output_type": "error",
     "traceback": [
      "Compilation Failed"
     ]
    }
   ],
   "source": [
    "class Bullet extends Item(\"Bullet\"){\n",
    "    override val name =\"Flower\"\n",
    "}"
   ]
  },
  {
   "cell_type": "markdown",
   "metadata": {},
   "source": [
    "- A ```def``` can only override another ```def``` .\n",
    "- A ```val``` can only override another ```val``` or a parameterless ```def``` .\n",
    "- A ```var``` can only override an abstract ```var```"
   ]
  },
  {
   "cell_type": "markdown",
   "metadata": {},
   "source": [
    "### <a name=\"sub_sec_2\"></a> Anonymous subclasses"
   ]
  },
  {
   "cell_type": "markdown",
   "metadata": {},
   "source": [
    "We can make an instance of an anonymous subclass if we include a block\n",
    "with deﬁnitions or overrides, such as"
   ]
  },
  {
   "cell_type": "code",
   "execution_count": 4,
   "metadata": {},
   "outputs": [
    {
     "name": "stderr",
     "output_type": "stream",
     "text": [
      "cmd4.sc:2: value name in class Item cannot be accessed as a member of cmd4.this.cmd1.Item from <$anon: cmd4.this.cmd1.Item>\n",
      "    def triName = super.name + \" TRI\"\n",
      "                        ^Compilation Failed"
     ]
    },
    {
     "ename": "",
     "evalue": "",
     "output_type": "error",
     "traceback": [
      "Compilation Failed"
     ]
    }
   ],
   "source": [
    "val tri = new Item(\"Anonymous\"){\n",
    "    def triName = super.name + \" TRI\"\n",
    "}"
   ]
  },
  {
   "cell_type": "markdown",
   "metadata": {},
   "source": [
    "## <a name=\"refs\"></a> References"
   ]
  },
  {
   "cell_type": "markdown",
   "metadata": {},
   "source": [
    "1. Cay Horstmann, ```Scala for the Impatient 1st Edition```"
   ]
  }
 ],
 "metadata": {
  "kernelspec": {
   "display_name": "Scala",
   "language": "scala",
   "name": "scala"
  },
  "language_info": {
   "codemirror_mode": "text/x-scala",
   "file_extension": ".sc",
   "mimetype": "text/x-scala",
   "name": "scala",
   "nbconvert_exporter": "script",
   "version": "2.13.3"
  }
 },
 "nbformat": 4,
 "nbformat_minor": 4
}
