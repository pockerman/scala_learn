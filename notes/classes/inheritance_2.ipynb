{
 "cells": [
  {
   "cell_type": "markdown",
   "metadata": {},
   "source": [
    "# Inheritance 2"
   ]
  },
  {
   "cell_type": "markdown",
   "metadata": {},
   "source": [
    "* [Overview](#overview)\n",
    "* [Inheritance 2](#sec1)\n",
    "    * [Protected fields](#sub_sec_1)\n",
    "    * [Superclass construction](#sub_sec_2)\n",
    "    * [Overriding methods](#sub_sec_3)\n",
    "    * [Anonymous subclasses](#sub_sec_4)\n",
    "    * [Abstract classes & fields](#sub_sec_5)\n",
    "    * [Construction order](#sub_sec_6)\n",
    "* [References](#refs)"
   ]
  },
  {
   "cell_type": "markdown",
   "metadata": {},
   "source": [
    "## <a name=\"overview\"></a> Overview"
   ]
  },
  {
   "cell_type": "markdown",
   "metadata": {},
   "source": [
    "In this section we continue discussing  inheritance of classes in Scala. Speciffically, in this section, we will consider the following topics "
   ]
  },
  {
   "cell_type": "markdown",
   "metadata": {},
   "source": [
    "- Protected fields"
   ]
  },
  {
   "cell_type": "markdown",
   "metadata": {},
   "source": [
    "- Superclass construction"
   ]
  },
  {
   "cell_type": "markdown",
   "metadata": {},
   "source": [
    "- Anonymous subclasses "
   ]
  },
  {
   "cell_type": "markdown",
   "metadata": {},
   "source": [
    "- Abstract classes & fields"
   ]
  },
  {
   "cell_type": "markdown",
   "metadata": {},
   "source": [
    "- Construction order"
   ]
  },
  {
   "cell_type": "markdown",
   "metadata": {},
   "source": [
    "## <a name=\"sec1\"></a> Inheritance 2"
   ]
  },
  {
   "cell_type": "markdown",
   "metadata": {},
   "source": [
    "We start first we protected fields and methods"
   ]
  },
  {
   "cell_type": "markdown",
   "metadata": {},
   "source": [
    "### <a name=\"sub_sec_1\"></a> Protected fields"
   ]
  },
  {
   "cell_type": "markdown",
   "metadata": {},
   "source": [
    "As in Java and C++, you can declare a ﬁeld or a method as ```protected``` . Such a member is accessible from any subclass, but not from other locations. Unlike in Java, a protected member is not visible throughout the package to which the class belongs. (If you want this visibility, you can use a package modiﬁer) [1]."
   ]
  },
  {
   "cell_type": "code",
   "execution_count": 1,
   "metadata": {},
   "outputs": [
    {
     "data": {
      "text/plain": [
       "defined \u001b[32mclass\u001b[39m \u001b[36mElement\u001b[39m"
      ]
     },
     "execution_count": 1,
     "metadata": {},
     "output_type": "execute_result"
    }
   ],
   "source": [
    "class Element{\n",
    "    \n",
    "    protected def speak = println(\"Hi from element\")\n",
    "    \n",
    "}"
   ]
  },
  {
   "cell_type": "markdown",
   "metadata": {},
   "source": [
    "---\n",
    "**Remark**"
   ]
  },
  {
   "cell_type": "markdown",
   "metadata": {},
   "source": [
    "In addition to ```private[this]```  there is also a ```protected[this]```. The latter restricts access only to the current object, similar to ```private[this]```.\n",
    "\n",
    "---"
   ]
  },
  {
   "cell_type": "markdown",
   "metadata": {},
   "source": [
    "### <a name=\"sub_sec_2\"></a> Superclass construction"
   ]
  },
  {
   "cell_type": "markdown",
   "metadata": {},
   "source": [
    "We already know that a class can have only one primary constructor which is eventually called by every auxiliary constructor. In fact, an auxiliary constructor should either start with a call to a preceding auxiliary constructor or a call to the primary constructor [1]."
   ]
  },
  {
   "cell_type": "markdown",
   "metadata": {},
   "source": [
    "The implication of the rule set forth above is that an auxiliary constructor can never invoke a superclass constructor directly [1]. In fact, it is only the primary constructor that can call a superclass constructor [1]."
   ]
  },
  {
   "cell_type": "markdown",
   "metadata": {},
   "source": [
    "However, the primary constructor is interwined with the class definition [1]. Therefore,\n",
    "a call to the superclass constructor is similarly intertwined. Let's see an example"
   ]
  },
  {
   "cell_type": "code",
   "execution_count": 2,
   "metadata": {},
   "outputs": [
    {
     "data": {
      "text/plain": [
       "defined \u001b[32mclass\u001b[39m \u001b[36mElement\u001b[39m"
      ]
     },
     "execution_count": 2,
     "metadata": {},
     "output_type": "execute_result"
    }
   ],
   "source": [
    "class Element(elType: String, idx: Int){\n",
    "    \n",
    "}"
   ]
  },
  {
   "cell_type": "code",
   "execution_count": 3,
   "metadata": {},
   "outputs": [
    {
     "data": {
      "text/plain": [
       "defined \u001b[32mclass\u001b[39m \u001b[36mTri\u001b[39m"
      ]
     },
     "execution_count": 3,
     "metadata": {},
     "output_type": "execute_result"
    }
   ],
   "source": [
    "class Tri(idx: Int) extends Element(elType = \"Tri\", idx = idx){\n",
    "    \n",
    "    private var order = -1\n",
    "    \n",
    "    // auxiliary constructor\n",
    "    def this(order: Int, idx: Int ){\n",
    "        this(idx)\n",
    "        this.order = order\n",
    "        \n",
    "    }\n",
    "    \n",
    "}"
   ]
  },
  {
   "cell_type": "markdown",
   "metadata": {},
   "source": [
    "The benefit of intertwining the class and the constructor is that we get very concise code [1]."
   ]
  },
  {
   "cell_type": "markdown",
   "metadata": {},
   "source": [
    "### <a name=\"sub_sec_3\"></a> Overriding fields"
   ]
  },
  {
   "cell_type": "markdown",
   "metadata": {},
   "source": [
    "A ﬁeld in Scala consists of three things:"
   ]
  },
  {
   "cell_type": "markdown",
   "metadata": {},
   "source": [
    "- the field itself"
   ]
  },
  {
   "cell_type": "markdown",
   "metadata": {},
   "source": [
    "- an accessor function"
   ]
  },
  {
   "cell_type": "markdown",
   "metadata": {},
   "source": [
    "- a mutator or setter, as long as the field is not declared as a ```val```"
   ]
  },
  {
   "cell_type": "markdown",
   "metadata": {},
   "source": [
    "In Scala, we can override a ```val``` (or a parameterless ```def``` ) with\n",
    "another ```val``` ﬁeld of the same name. The subclass has a private ﬁeld and a public\n",
    "getter, and the getter overrides the superclass getter (or method)"
   ]
  },
  {
   "cell_type": "code",
   "execution_count": 4,
   "metadata": {},
   "outputs": [
    {
     "data": {
      "text/plain": [
       "defined \u001b[32mclass\u001b[39m \u001b[36mItem\u001b[39m"
      ]
     },
     "execution_count": 4,
     "metadata": {},
     "output_type": "execute_result"
    }
   ],
   "source": [
    "class Item(name: String){\n",
    "    override def toString = getClass.getName + \"[name= \" + name + \"]\"\n",
    "}\n",
    "\n"
   ]
  },
  {
   "cell_type": "code",
   "execution_count": 5,
   "metadata": {},
   "outputs": [
    {
     "data": {
      "text/plain": [
       "defined \u001b[32mclass\u001b[39m \u001b[36mMilk\u001b[39m"
      ]
     },
     "execution_count": 5,
     "metadata": {},
     "output_type": "execute_result"
    }
   ],
   "source": [
    "class Milk extends Item(\"Milk\")"
   ]
  },
  {
   "cell_type": "code",
   "execution_count": 6,
   "metadata": {},
   "outputs": [
    {
     "name": "stdout",
     "output_type": "stream",
     "text": [
      "ammonite.$sess.cmd4$Helper$Milk[name= Milk]\n"
     ]
    },
    {
     "data": {
      "text/plain": [
       "\u001b[36mmilk\u001b[39m: \u001b[32mMilk\u001b[39m = ammonite.$sess.cmd4$Helper$Milk[name= Milk]"
      ]
     },
     "execution_count": 6,
     "metadata": {},
     "output_type": "execute_result"
    }
   ],
   "source": [
    "val milk = new Milk\n",
    "println(milk.toString)"
   ]
  },
  {
   "cell_type": "code",
   "execution_count": 6,
   "metadata": {},
   "outputs": [
    {
     "name": "stderr",
     "output_type": "stream",
     "text": [
      "cmd6.sc:2: name is already defined as value name\n",
      "    override val name = \"Flower\"\n",
      "                 ^Compilation Failed"
     ]
    },
    {
     "ename": "",
     "evalue": "",
     "output_type": "error",
     "traceback": [
      "Compilation Failed"
     ]
    }
   ],
   "source": [
    "class Bullet(name: String) extends Item(name){\n",
    "    override val name = \"Flower\"\n",
    "}"
   ]
  },
  {
   "cell_type": "code",
   "execution_count": null,
   "metadata": {},
   "outputs": [],
   "source": [
    "val bullet = new Bullet(\"Bullet\")\n",
    "println(bullet.toString)"
   ]
  },
  {
   "cell_type": "markdown",
   "metadata": {},
   "source": [
    "- A ```def``` can only override another ```def``` .\n",
    "- A ```val``` can only override another ```val``` or a parameterless ```def``` .\n",
    "- A ```var``` can only override an abstract ```var```"
   ]
  },
  {
   "cell_type": "markdown",
   "metadata": {},
   "source": [
    "### <a name=\"sub_sec_4\"></a> Anonymous subclasses"
   ]
  },
  {
   "cell_type": "markdown",
   "metadata": {},
   "source": [
    "We can make an instance of an anonymous subclass if we include a block\n",
    "with deﬁnitions or overrides, such as"
   ]
  },
  {
   "cell_type": "code",
   "execution_count": 6,
   "metadata": {},
   "outputs": [
    {
     "name": "stderr",
     "output_type": "stream",
     "text": [
      "cmd6.sc:6: value name is not a member of cmd6.this.cmd3.Item{def triName: String}\n",
      "    println(item.name + \"says \" + item.triName)\n",
      "                 ^Compilation Failed"
     ]
    },
    {
     "ename": "",
     "evalue": "",
     "output_type": "error",
     "traceback": [
      "Compilation Failed"
     ]
    }
   ],
   "source": [
    "val tri = new Item(\"Anonymous\"){\n",
    "    def triName = \"I am a TRI\" \n",
    "}\n",
    "\n",
    "def makeTri(item: Item{def triName: String}){\n",
    "    println(item.name + \"says \" + item.triName)\n",
    "}"
   ]
  },
  {
   "cell_type": "markdown",
   "metadata": {},
   "source": [
    "### <a name=\"sub_sec_5\"></a>Abstract classes & fields"
   ]
  },
  {
   "cell_type": "markdown",
   "metadata": {},
   "source": [
    "As in Java, we use the ```abstract``` keyword to denote a class that cannot be instantiated, usually because one or more of its methods are not deﬁned; we call this class an abstract class. "
   ]
  },
  {
   "cell_type": "markdown",
   "metadata": {},
   "source": [
    "In Scala, however, we do not use the ```abstract``` keyword for an abstract method but simply\n",
    "omit its body. As in Java, a class with at least one abstract method must be declared abstract ."
   ]
  },
  {
   "cell_type": "markdown",
   "metadata": {},
   "source": [
    "In addition to abstract methods, a class can also have abstract ﬁelds. An abstract\n",
    "ﬁeld is simply a ﬁeld without an initial value. For example"
   ]
  },
  {
   "cell_type": "code",
   "execution_count": null,
   "metadata": {},
   "outputs": [],
   "source": [
    "class MyC{\n",
    "    // No initializer—this is an \n",
    "    // abstract ﬁeld with an abstract getter method\n",
    "    val id: Int\n",
    "    \n",
    "    // Another abstract ﬁeld, \n",
    "    // with abstract getter and setter methods\n",
    "    var id2: Double\n",
    "}"
   ]
  },
  {
   "cell_type": "markdown",
   "metadata": {},
   "source": [
    "This class deﬁnes the following [1]"
   ]
  },
  {
   "cell_type": "markdown",
   "metadata": {},
   "source": [
    "- abstract getter methods for the ```id``` and ```id2``` ﬁelds"
   ]
  },
  {
   "cell_type": "markdown",
   "metadata": {},
   "source": [
    "- an abstract setter for the ```id2``` ﬁeld"
   ]
  },
  {
   "cell_type": "markdown",
   "metadata": {},
   "source": [
    "---\n",
    "**Remark**"
   ]
  },
  {
   "cell_type": "markdown",
   "metadata": {},
   "source": [
    "The generated Java class has no ﬁelds [1].\n",
    "\n",
    "---"
   ]
  },
  {
   "cell_type": "markdown",
   "metadata": {},
   "source": [
    "### <a name=\"sub_sec_6\"></a> Construction order and early deﬁnitions"
   ]
  },
  {
   "cell_type": "markdown",
   "metadata": {},
   "source": [
    "So what is the order of construction when inheritance is involved? In C++ and Java, the base classe(s) are constructre first and this is makes perfect sense. The same thing happens in Scala"
   ]
  },
  {
   "cell_type": "code",
   "execution_count": 4,
   "metadata": {},
   "outputs": [
    {
     "name": "stdout",
     "output_type": "stream",
     "text": [
      "Construct Base...\n",
      "Construct Derived1...\n",
      "Construct Derived2...\n"
     ]
    },
    {
     "data": {
      "text/plain": [
       "defined \u001b[32mclass\u001b[39m \u001b[36mBase\u001b[39m\n",
       "defined \u001b[32mclass\u001b[39m \u001b[36mDerived1\u001b[39m\n",
       "defined \u001b[32mclass\u001b[39m \u001b[36mDerived2\u001b[39m\n",
       "\u001b[36mderived\u001b[39m: \u001b[32mDerived2\u001b[39m = ammonite.$sess.cmd3$Helper$Derived2@1a4d279c"
      ]
     },
     "execution_count": 4,
     "metadata": {},
     "output_type": "execute_result"
    }
   ],
   "source": [
    "class Base{\n",
    "    println(\"Construct Base...\")\n",
    "}\n",
    "\n",
    "class Derived1 extends Base{\n",
    "    \n",
    "  println(\"Construct Derived1...\")\n",
    "}\n",
    "\n",
    "class Derived2 extends Derived1{\n",
    "    \n",
    "   println(\"Construct Derived2...\")\n",
    "}\n",
    "\n",
    "val derived = new Derived2"
   ]
  },
  {
   "cell_type": "markdown",
   "metadata": {},
   "source": [
    "The superclass constructor runs before the subclass constructor."
   ]
  },
  {
   "cell_type": "markdown",
   "metadata": {},
   "source": [
    "However, there is a subtle point here. When we override a ```val``` in a subclass that  is used in a superclass constructor the behavior is surprising."
   ]
  },
  {
   "cell_type": "code",
   "execution_count": 3,
   "metadata": {},
   "outputs": [
    {
     "data": {
      "text/plain": [
       "defined \u001b[32mclass\u001b[39m \u001b[36mBase\u001b[39m\n",
       "defined \u001b[32mclass\u001b[39m \u001b[36mDerived\u001b[39m"
      ]
     },
     "execution_count": 3,
     "metadata": {},
     "output_type": "execute_result"
    }
   ],
   "source": [
    "class Base{\n",
    "    val range: Int = 10\n",
    "}\n",
    "\n",
    "class Derived extends Base{\n",
    "    override val range = 2\n",
    "}"
   ]
  },
  {
   "cell_type": "code",
   "execution_count": 5,
   "metadata": {},
   "outputs": [
    {
     "name": "stdout",
     "output_type": "stream",
     "text": [
      "2\n"
     ]
    },
    {
     "data": {
      "text/plain": [
       "\u001b[36mder\u001b[39m: \u001b[32mDerived\u001b[39m = ammonite.$sess.cmd2$Helper$Derived@5c15b16d"
      ]
     },
     "execution_count": 5,
     "metadata": {},
     "output_type": "execute_result"
    }
   ],
   "source": [
    "val der = new Derived\n",
    "println(der.range)"
   ]
  },
  {
   "cell_type": "markdown",
   "metadata": {},
   "source": [
    "Nothing new here given what we saw in the previously. However, consider the following"
   ]
  },
  {
   "cell_type": "code",
   "execution_count": 6,
   "metadata": {},
   "outputs": [
    {
     "data": {
      "text/plain": [
       "defined \u001b[32mclass\u001b[39m \u001b[36mBase\u001b[39m\n",
       "defined \u001b[32mclass\u001b[39m \u001b[36mDerived\u001b[39m"
      ]
     },
     "execution_count": 6,
     "metadata": {},
     "output_type": "execute_result"
    }
   ],
   "source": [
    "class Base{\n",
    "    val range: Int = 10\n",
    "    val env: Array[Int] = new Array[Int](range)\n",
    "}\n",
    "\n",
    "class Derived extends Base{\n",
    "    override val range = 2\n",
    "}"
   ]
  },
  {
   "cell_type": "code",
   "execution_count": 7,
   "metadata": {},
   "outputs": [
    {
     "name": "stdout",
     "output_type": "stream",
     "text": [
      "0\n"
     ]
    },
    {
     "data": {
      "text/plain": [
       "\u001b[36mder\u001b[39m: \u001b[32mDerived\u001b[39m = ammonite.$sess.cmd5$Helper$Derived@274040cf"
      ]
     },
     "execution_count": 7,
     "metadata": {},
     "output_type": "execute_result"
    }
   ],
   "source": [
    "val der = new Derived\n",
    "println(der.env.length)"
   ]
  },
  {
   "cell_type": "markdown",
   "metadata": {},
   "source": [
    "Here is what happens [1]"
   ]
  },
  {
   "cell_type": "markdown",
   "metadata": {},
   "source": [
    "1. The ```Derived``` constructor calls the ```Base``` constructor before doing its own\n",
    "construction.\n",
    "2. The ```Base``` constructor sets its range ﬁeld to 10, and then calls ```range()``` in order to initialize ```env```.\n",
    "3. ```range()``` is overridden to yield the (as yet uninitialized) ```range``` ﬁeld of the ```Derived``` class.\n",
    "4. The ```range()``` method returns 0 . (That is the initial value of all integer ﬁelds when an object is allocated.)\n",
    "5. ```env``` is set to an array of length 0 .\n",
    "6. The ```Derived``` constructor continues, setting its range ﬁeld to 2 ."
   ]
  },
  {
   "cell_type": "markdown",
   "metadata": {},
   "source": [
    "This is unintuitive at first as  ```range``` appears to be  either 10 or 2 , ```env``` has been set to an array of length 0. Conclusively, we should not rely on the value of a ```val``` in the body of a constructor."
   ]
  },
  {
   "cell_type": "markdown",
   "metadata": {},
   "source": [
    "---\n",
    "**Remark**"
   ]
  },
  {
   "cell_type": "markdown",
   "metadata": {},
   "source": [
    "In Java, you have a similar issue when you call a method in a superclass constructor. The method might be overridden in a subclass, and it might not do what you want it to do. (In fact, that is the root cause of our problem—the expression range calls the getter method.)[1]\n",
    "\n",
    "---"
   ]
  },
  {
   "cell_type": "markdown",
   "metadata": {},
   "source": [
    "So how can we fix this? There are several remedies."
   ]
  },
  {
   "cell_type": "markdown",
   "metadata": {},
   "source": [
    "- Declare the ```val``` as final . This is safe but not very ﬂexible.\n",
    "- Declare the ```val``` as ```lazy``` in the superclass. This is safe but a bit inefﬁcient.\n",
    "- Use the early deﬁnition syntax in the subclass."
   ]
  },
  {
   "cell_type": "markdown",
   "metadata": {},
   "source": [
    "#### The early deﬁnition syntax"
   ]
  },
  {
   "cell_type": "markdown",
   "metadata": {},
   "source": [
    "The early deﬁnition syntax allows us to initialize ```val``` ﬁelds of a subclass before the\n",
    "superclass is executed [1].  In essence, we place the ```val``` ﬁelds in a block after the ```extends``` keyword, as shown below"
   ]
  },
  {
   "cell_type": "code",
   "execution_count": 10,
   "metadata": {},
   "outputs": [
    {
     "data": {
      "text/plain": [
       "defined \u001b[32mclass\u001b[39m \u001b[36mDerived\u001b[39m"
      ]
     },
     "execution_count": 10,
     "metadata": {},
     "output_type": "execute_result"
    }
   ],
   "source": [
    "class Derived extends{\n",
    "    override val range = 2\n",
    "} with Base"
   ]
  },
  {
   "cell_type": "code",
   "execution_count": 11,
   "metadata": {},
   "outputs": [
    {
     "name": "stdout",
     "output_type": "stream",
     "text": [
      "2\n"
     ]
    },
    {
     "data": {
      "text/plain": [
       "\u001b[36mder\u001b[39m: \u001b[32mDerived\u001b[39m = ammonite.$sess.cmd9$Helper$Derived@40fb9a2"
      ]
     },
     "execution_count": 11,
     "metadata": {},
     "output_type": "execute_result"
    }
   ],
   "source": [
    "val der = new Derived\n",
    "println(der.env.length)"
   ]
  },
  {
   "cell_type": "markdown",
   "metadata": {},
   "source": [
    "Note that the right-hand side of an early deﬁnition can only refer to previous early\n",
    "deﬁnitions, not to other ﬁelds or methods of the class."
   ]
  },
  {
   "cell_type": "markdown",
   "metadata": {},
   "source": [
    "## <a name=\"refs\"></a> References"
   ]
  },
  {
   "cell_type": "markdown",
   "metadata": {},
   "source": [
    "1. Cay Horstmann, ```Scala for the Impatient 1st Edition```"
   ]
  }
 ],
 "metadata": {
  "kernelspec": {
   "display_name": "Scala",
   "language": "scala",
   "name": "scala"
  },
  "language_info": {
   "codemirror_mode": "text/x-scala",
   "file_extension": ".sc",
   "mimetype": "text/x-scala",
   "name": "scala",
   "nbconvert_exporter": "script",
   "version": "2.13.3"
  }
 },
 "nbformat": 4,
 "nbformat_minor": 4
}
