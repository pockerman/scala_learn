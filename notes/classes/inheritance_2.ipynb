{
 "cells": [
  {
   "cell_type": "markdown",
   "metadata": {},
   "source": [
    "# Inheritance 2"
   ]
  },
  {
   "cell_type": "markdown",
   "metadata": {},
   "source": [
    "* [Overview](#overview)\n",
    "* [Inheritance 2](#sec1)\n",
    "    * [Protected fields](#sub_sec_1)\n",
    "    * [Superclass construction](#sub_sec_2)\n",
    "    * [Overriding methods](#sub_sec_3)\n",
    "    * [Anonymous subclasses](#sub_sec_4)\n",
    "    * [Construction Order and Early Deﬁnitions](#sub_sec_5)\n",
    "* [References](#refs)"
   ]
  },
  {
   "cell_type": "markdown",
   "metadata": {},
   "source": [
    "## <a name=\"overview\"></a> Overview"
   ]
  },
  {
   "cell_type": "markdown",
   "metadata": {},
   "source": [
    "In this section we continue discussing  inheritance of classes in Scala. Speciffically, in this section, we will consider the following topics protected fields, anonymous subclasses and construction order. "
   ]
  },
  {
   "cell_type": "markdown",
   "metadata": {},
   "source": [
    "- Protected fields"
   ]
  },
  {
   "cell_type": "markdown",
   "metadata": {},
   "source": [
    "- Superclass construction"
   ]
  },
  {
   "cell_type": "markdown",
   "metadata": {},
   "source": [
    "- Anonymous subclasses "
   ]
  },
  {
   "cell_type": "markdown",
   "metadata": {},
   "source": [
    "- Construction order"
   ]
  },
  {
   "cell_type": "markdown",
   "metadata": {},
   "source": [
    "## <a name=\"sec1\"></a> Inheritance 2"
   ]
  },
  {
   "cell_type": "markdown",
   "metadata": {},
   "source": [
    "We start first we protected fields and methods"
   ]
  },
  {
   "cell_type": "markdown",
   "metadata": {},
   "source": [
    "### <a name=\"sub_sec_1\"></a> Protected fields"
   ]
  },
  {
   "cell_type": "markdown",
   "metadata": {},
   "source": [
    "As in Java or C++, you can declare a ﬁeld or a method as ```protected``` . Such a member is accessible from any subclass, but not from other locations. Unlike in Java, a protected member is not visible throughout the package to which the class belongs. (If you want this visibility, you can use a package modiﬁer) [1]."
   ]
  },
  {
   "cell_type": "code",
   "execution_count": 7,
   "metadata": {},
   "outputs": [
    {
     "data": {
      "text/plain": [
       "defined \u001b[32mclass\u001b[39m \u001b[36mElement\u001b[39m"
      ]
     },
     "execution_count": 7,
     "metadata": {},
     "output_type": "execute_result"
    }
   ],
   "source": [
    "class Element{\n",
    "    \n",
    "    protected def speak = println(\"Hi from element\")\n",
    "    \n",
    "}"
   ]
  },
  {
   "cell_type": "markdown",
   "metadata": {},
   "source": [
    "---\n",
    "**Remark**"
   ]
  },
  {
   "cell_type": "markdown",
   "metadata": {},
   "source": [
    "In addition to ```private[this]```  there is also a ```protected[this]```. The latter restricts access only to the current object, similar to ```private[this]```.\n",
    "\n",
    "---"
   ]
  },
  {
   "cell_type": "markdown",
   "metadata": {},
   "source": [
    "### <a name=\"sub_sec_2\"></a> Superclass construction"
   ]
  },
  {
   "cell_type": "markdown",
   "metadata": {},
   "source": [
    "We already know that a class can have only one primary constructor which is eventually called by every auxiliary constructor. In fact, an auxiliary constructor should either start with a call to a preceding auxiliary constructor or a call to the primary constructor [1]."
   ]
  },
  {
   "cell_type": "markdown",
   "metadata": {},
   "source": [
    "The implication of the rule set forth above is that am auxiliary constructor can never invoke a superclass constructor directly [1]. In fact, it is only the primary constructor that can call a superclass constructor [1]."
   ]
  },
  {
   "cell_type": "markdown",
   "metadata": {},
   "source": [
    "However, the primary constructor is interwined with the class definition [1]. Therefore,\n",
    "call to the superclass constructor is similarly intertwined. Let's see an example"
   ]
  },
  {
   "cell_type": "code",
   "execution_count": 8,
   "metadata": {},
   "outputs": [
    {
     "data": {
      "text/plain": [
       "defined \u001b[32mclass\u001b[39m \u001b[36mElement\u001b[39m"
      ]
     },
     "execution_count": 8,
     "metadata": {},
     "output_type": "execute_result"
    }
   ],
   "source": [
    "class Element(elType: String, idx: Int){\n",
    "    \n",
    "}"
   ]
  },
  {
   "cell_type": "code",
   "execution_count": 9,
   "metadata": {},
   "outputs": [
    {
     "data": {
      "text/plain": [
       "defined \u001b[32mclass\u001b[39m \u001b[36mTri\u001b[39m"
      ]
     },
     "execution_count": 9,
     "metadata": {},
     "output_type": "execute_result"
    }
   ],
   "source": [
    "class Tri(idx: Int) extends Element(elType = \"Tri\", idx = idx){\n",
    "    \n",
    "    private var order = -1\n",
    "    \n",
    "    // auxiliary constructor\n",
    "    def this(order: Int, idx: Int ){\n",
    "        this(idx)\n",
    "        this.order = order\n",
    "        \n",
    "    }\n",
    "    \n",
    "}"
   ]
  },
  {
   "cell_type": "markdown",
   "metadata": {},
   "source": [
    "The benefit of intertwining the class and the constructor is that we get very concise code [1]."
   ]
  },
  {
   "cell_type": "markdown",
   "metadata": {},
   "source": [
    "### <a name=\"sub_sec_3\"></a> Overriding fields"
   ]
  },
  {
   "cell_type": "markdown",
   "metadata": {},
   "source": [
    "A ﬁeld in Scala consists of a private ﬁeld and\n",
    "accessor/mutator methods. You can override a ```val``` (or a parameterless ```def``` ) with\n",
    "another ```val``` ﬁeld of the same name. The subclass has a private ﬁeld and a public\n",
    "getter, and the getter overrides the superclass getter (or method)"
   ]
  },
  {
   "cell_type": "code",
   "execution_count": 10,
   "metadata": {},
   "outputs": [
    {
     "data": {
      "text/plain": [
       "defined \u001b[32mclass\u001b[39m \u001b[36mItem\u001b[39m"
      ]
     },
     "execution_count": 10,
     "metadata": {},
     "output_type": "execute_result"
    }
   ],
   "source": [
    "class Item(name: String){\n",
    "    override def toString = getClass.getName + \" \" + name\n",
    "}"
   ]
  },
  {
   "cell_type": "code",
   "execution_count": 11,
   "metadata": {},
   "outputs": [
    {
     "data": {
      "text/plain": [
       "defined \u001b[32mclass\u001b[39m \u001b[36mMilk\u001b[39m"
      ]
     },
     "execution_count": 11,
     "metadata": {},
     "output_type": "execute_result"
    }
   ],
   "source": [
    "class Milk extends Item(\"Milk\")"
   ]
  },
  {
   "cell_type": "code",
   "execution_count": 12,
   "metadata": {},
   "outputs": [
    {
     "name": "stdout",
     "output_type": "stream",
     "text": [
      "ammonite.$sess.cmd10$Helper$Milk Milk\n"
     ]
    },
    {
     "data": {
      "text/plain": [
       "\u001b[36mmilk\u001b[39m: \u001b[32mMilk\u001b[39m = ammonite.$sess.cmd10$Helper$Milk Milk"
      ]
     },
     "execution_count": 12,
     "metadata": {},
     "output_type": "execute_result"
    }
   ],
   "source": [
    "val milk = new Milk\n",
    "println(milk.toString)"
   ]
  },
  {
   "cell_type": "code",
   "execution_count": 12,
   "metadata": {},
   "outputs": [
    {
     "name": "stderr",
     "output_type": "stream",
     "text": [
      "cmd12.sc:2: value name overrides nothing\n",
      "    override val name =\"Flower\"\n",
      "                 ^Compilation Failed"
     ]
    },
    {
     "ename": "",
     "evalue": "",
     "output_type": "error",
     "traceback": [
      "Compilation Failed"
     ]
    }
   ],
   "source": [
    "class Bullet extends Item(\"Bullet\"){\n",
    "    override val name =\"Flower\"\n",
    "}"
   ]
  },
  {
   "cell_type": "markdown",
   "metadata": {},
   "source": [
    "- A ```def``` can only override another ```def``` .\n",
    "- A ```val``` can only override another ```val``` or a parameterless ```def``` .\n",
    "- A ```var``` can only override an abstract ```var```"
   ]
  },
  {
   "cell_type": "markdown",
   "metadata": {},
   "source": [
    "### <a name=\"sub_sec_4\"></a> Anonymous subclasses"
   ]
  },
  {
   "cell_type": "markdown",
   "metadata": {},
   "source": [
    "We can make an instance of an anonymous subclass if we include a block\n",
    "with deﬁnitions or overrides, such as"
   ]
  },
  {
   "cell_type": "code",
   "execution_count": 12,
   "metadata": {},
   "outputs": [
    {
     "name": "stderr",
     "output_type": "stream",
     "text": [
      "cmd12.sc:2: value name in class Item cannot be accessed as a member of cmd12.this.cmd9.Item from <$anon: cmd12.this.cmd9.Item>\n",
      "    def triName = super.name + \" TRI\"\n",
      "                        ^Compilation Failed"
     ]
    },
    {
     "ename": "",
     "evalue": "",
     "output_type": "error",
     "traceback": [
      "Compilation Failed"
     ]
    }
   ],
   "source": [
    "val tri = new Item(\"Anonymous\"){\n",
    "    def triName = super.name + \" TRI\"\n",
    "}"
   ]
  },
  {
   "cell_type": "markdown",
   "metadata": {},
   "source": [
    "### <a name=\"sub_sec_5\"></a> Construction order and early deﬁnitions"
   ]
  },
  {
   "cell_type": "markdown",
   "metadata": {},
   "source": [
    "1. The Ant constructor calls the Creature constructor before doing its own\n",
    "construction.\n",
    "2. The Creature constructor sets its range ﬁeld to 10 .\n",
    "3. The Creature constructor, in order to initialize the env array, calls the range()\n",
    "getter.\n",
    "4. That method is overridden to yield the (as yet uninitialized) range ﬁeld of the\n",
    "Ant class.\n",
    "5. The range method returns 0 . (That is the initial value of all integer ﬁelds when\n",
    "an object is allocated.)\n",
    "6. env is set to an array of length 0 .\n",
    "7. The Ant constructor continues, setting its range ﬁeld to 2 ."
   ]
  },
  {
   "cell_type": "markdown",
   "metadata": {},
   "source": [
    "Even though it appears as if range is either 10 or 2 , env has been set to an array of\n",
    "length 0 . The moral is that you should not rely on the value of a val in the body\n",
    "of a constructor."
   ]
  },
  {
   "cell_type": "markdown",
   "metadata": {},
   "source": [
    "---\n",
    "**Remark**"
   ]
  },
  {
   "cell_type": "markdown",
   "metadata": {},
   "source": [
    "In Java, you have a similar issue when you call a method in a superclass construc-\n",
    "tor. The method might be overridden in a subclass, and it might not do what you\n",
    "want it to do. (In fact, that is the root cause of our problem—the expression range\n",
    "calls the getter method.)\n",
    "\n",
    "---"
   ]
  },
  {
   "cell_type": "markdown",
   "metadata": {},
   "source": [
    "There are several remedies."
   ]
  },
  {
   "cell_type": "markdown",
   "metadata": {},
   "source": [
    "- Declare the val as final . This is safe but not very ﬂexible.\n",
    "- Declare the val as lazy in the superclass (see Chapter 2). This is safe but a bit inefﬁcient.\n",
    "- Use the early deﬁnition syntax in the subclass—see below."
   ]
  },
  {
   "cell_type": "markdown",
   "metadata": {},
   "source": [
    "The “early deﬁnition” syntax lets you initialize val ﬁelds of a subclass before the\n",
    "superclass is executed. The syntax is so ugly that only a mother could love it.\n",
    "You place the val ﬁelds in a block after the extends keyword, like this:"
   ]
  },
  {
   "cell_type": "markdown",
   "metadata": {},
   "source": [
    "```\n",
    "class Bug extends {\n",
    "override val range = 3\n",
    "} with Creature\n",
    "```"
   ]
  },
  {
   "cell_type": "markdown",
   "metadata": {},
   "source": [
    "The right-hand side of an early deﬁnition can only refer to previous early\n",
    "deﬁnitions, not to other ﬁelds or methods of the class."
   ]
  },
  {
   "cell_type": "markdown",
   "metadata": {},
   "source": [
    "## <a name=\"refs\"></a> References"
   ]
  },
  {
   "cell_type": "markdown",
   "metadata": {},
   "source": [
    "1. Cay Horstmann, ```Scala for the Impatient 1st Edition```"
   ]
  }
 ],
 "metadata": {
  "kernelspec": {
   "display_name": "Scala",
   "language": "scala",
   "name": "scala"
  },
  "language_info": {
   "codemirror_mode": "text/x-scala",
   "file_extension": ".sc",
   "mimetype": "text/x-scala",
   "name": "scala",
   "nbconvert_exporter": "script",
   "version": "2.13.3"
  }
 },
 "nbformat": 4,
 "nbformat_minor": 4
}
