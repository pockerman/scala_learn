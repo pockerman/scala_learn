{
 "cells": [
  {
   "cell_type": "markdown",
   "metadata": {},
   "source": [
    "# Abstract classes & fields"
   ]
  },
  {
   "cell_type": "markdown",
   "metadata": {},
   "source": [
    "We can use the ```abstract``` keyword to denote a class that cannot be instantiated. This is because one one or more of its methods are not  defined"
   ]
  },
  {
   "cell_type": "code",
   "execution_count": 1,
   "metadata": {},
   "outputs": [
    {
     "data": {
      "text/plain": [
       "defined \u001b[32mclass\u001b[39m \u001b[36mElement\u001b[39m"
      ]
     },
     "execution_count": 1,
     "metadata": {},
     "output_type": "execute_result"
    }
   ],
   "source": [
    "abstract class Element(id: Int){\n",
    "    def getType: String\n",
    "    \n",
    "}"
   ]
  },
  {
   "cell_type": "markdown",
   "metadata": {},
   "source": [
    "Every ```Element```  has a type, but at this stage we don’t know what this is.\n",
    "Each concrete subclass of ```Element``` needs to specify an ```getType``` method. "
   ]
  },
  {
   "cell_type": "markdown",
   "metadata": {},
   "source": [
    "In Scala, unlike Java, you do not use the ```abstract``` keyword for an abstract method. You simply\n",
    "omit its body. As in Java, a class with at least one abstract method must be\n",
    "declared ```abstract``` [1]."
   ]
  },
  {
   "cell_type": "markdown",
   "metadata": {},
   "source": [
    "In a subclass, you need not use the ```override``` keyword when you deﬁne a method\n",
    "that was abstract in the superclass."
   ]
  },
  {
   "cell_type": "code",
   "execution_count": 2,
   "metadata": {},
   "outputs": [
    {
     "data": {
      "text/plain": [
       "defined \u001b[32mclass\u001b[39m \u001b[36mTri\u001b[39m"
      ]
     },
     "execution_count": 2,
     "metadata": {},
     "output_type": "execute_result"
    }
   ],
   "source": [
    "class Tri(id: Int) extends Element(id: Int){\n",
    "    override def getType: String = \"Tri\"\n",
    "    \n",
    "}"
   ]
  },
  {
   "cell_type": "markdown",
   "metadata": {},
   "source": [
    "In Scala we can also have abstract fields. An abstract\n",
    "ﬁeld is simply a ﬁeld without an initial value [1]."
   ]
  },
  {
   "cell_type": "code",
   "execution_count": 3,
   "metadata": {},
   "outputs": [
    {
     "data": {
      "text/plain": [
       "defined \u001b[32mclass\u001b[39m \u001b[36mElement\u001b[39m"
      ]
     },
     "execution_count": 3,
     "metadata": {},
     "output_type": "execute_result"
    }
   ],
   "source": [
    "abstract class Element{\n",
    "    \n",
    "    // abstract ﬁeld with an abstract getter method\n",
    "    val id: Int\n",
    "    \n",
    "    // abstract ﬁeld, with abstract getter and setter methods\n",
    "    var eleType: String\n",
    "}"
   ]
  },
  {
   "cell_type": "markdown",
   "metadata": {},
   "source": [
    "Derived lasses must provide concrete ﬁelds [1]"
   ]
  },
  {
   "cell_type": "code",
   "execution_count": 4,
   "metadata": {},
   "outputs": [
    {
     "data": {
      "text/plain": [
       "defined \u001b[32mclass\u001b[39m \u001b[36mQuad\u001b[39m"
      ]
     },
     "execution_count": 4,
     "metadata": {},
     "output_type": "execute_result"
    }
   ],
   "source": [
    "// Subclass has concrete id property\n",
    "class Quad(val id: Int) extends Element{\n",
    "    \n",
    "    // and concrete eleType property\n",
    "    var eleType: String = \"QUAD\"\n",
    "}"
   ]
  },
  {
   "cell_type": "markdown",
   "metadata": {},
   "source": [
    "Note that we dont have to use the  ```override``` keyword in the subclass when you deﬁne\n",
    "a ﬁeld that was abstract in the superclass."
   ]
  },
  {
   "cell_type": "markdown",
   "metadata": {},
   "source": [
    "When you overrride a val in a subclass and use the value in a superclass\n",
    "constructor, the resulting behavior is unintuitive."
   ]
  },
  {
   "cell_type": "markdown",
   "metadata": {},
   "source": [
    "Here is an example. A creature can sense a part of its environment. For simplicity,\n",
    "we assume the creature lives in a one-dimensional world, and the sensory data\n",
    "are represented as integers. A default creature can see ten units ahead"
   ]
  },
  {
   "cell_type": "code",
   "execution_count": 5,
   "metadata": {},
   "outputs": [
    {
     "data": {
      "text/plain": [
       "defined \u001b[32mclass\u001b[39m \u001b[36mCreature\u001b[39m"
      ]
     },
     "execution_count": 5,
     "metadata": {},
     "output_type": "execute_result"
    }
   ],
   "source": [
    "class Creature {\n",
    "val range: Int = 10\n",
    "val env: Array[Int] = new Array[Int](range)\n",
    "}"
   ]
  },
  {
   "cell_type": "markdown",
   "metadata": {},
   "source": [
    "however, are near-sighted:"
   ]
  },
  {
   "cell_type": "code",
   "execution_count": 6,
   "metadata": {},
   "outputs": [
    {
     "data": {
      "text/plain": [
       "defined \u001b[32mclass\u001b[39m \u001b[36mAnt\u001b[39m"
      ]
     },
     "execution_count": 6,
     "metadata": {},
     "output_type": "execute_result"
    }
   ],
   "source": [
    "class Ant extends Creature {\n",
    "override val range = 2\n",
    "}"
   ]
  },
  {
   "cell_type": "markdown",
   "metadata": {},
   "source": [
    "Unfortunately, we now have a problem. The range value is used in the superclass\n",
    "constructor, and the superclass constructor runs before the subclass constructor.\n",
    "Speciﬁcally, here is what happens"
   ]
  },
  {
   "cell_type": "markdown",
   "metadata": {},
   "source": [
    "## <a name=\"refs\"></a> References"
   ]
  },
  {
   "cell_type": "markdown",
   "metadata": {},
   "source": [
    "1. Cay Horstmann, ```Scala for the Impatient 1st Edition```"
   ]
  },
  {
   "cell_type": "code",
   "execution_count": null,
   "metadata": {},
   "outputs": [],
   "source": []
  }
 ],
 "metadata": {
  "kernelspec": {
   "display_name": "Scala",
   "language": "scala",
   "name": "scala"
  },
  "language_info": {
   "codemirror_mode": "text/x-scala",
   "file_extension": ".sc",
   "mimetype": "text/x-scala",
   "name": "scala",
   "nbconvert_exporter": "script",
   "version": "2.13.3"
  }
 },
 "nbformat": 4,
 "nbformat_minor": 4
}
