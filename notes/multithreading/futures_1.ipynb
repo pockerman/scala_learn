{
 "cells": [
  {
   "cell_type": "markdown",
   "metadata": {},
   "source": [
    "# Futures 1"
   ]
  },
  {
   "cell_type": "markdown",
   "metadata": {},
   "source": [
    "Scala comes with a ```Futures``` API that allows us to develop parallel application  more easily than working with threads, locks and callbacks [1]. "
   ]
  },
  {
   "cell_type": "markdown",
   "metadata": {},
   "source": [
    "---\n",
    "**Futures and promises**"
   ]
  },
  {
   "cell_type": "markdown",
   "metadata": {},
   "source": [
    "In computer science, future, promise, delay, and deferred refer to constructs used for synchronizing program execution in some concurrent programming languages. They describe an object that acts as a proxy for a result that is initially unknown, usually because the computation of its value is not yet complete [2].\n",
    "\n",
    "---"
   ]
  },
  {
   "cell_type": "markdown",
   "metadata": {},
   "source": [
    "A nice introductory video on Scala futures is given below"
   ]
  },
  {
   "cell_type": "code",
   "execution_count": 0,
   "metadata": {},
   "outputs": [
    {
     "name": "stderr",
     "output_type": "stream",
     "text": [
      "(console):1:1 expected end-of-input\n",
      "%python\n",
      "^"
     ]
    },
    {
     "ename": "",
     "evalue": "",
     "output_type": "error",
     "traceback": [
      "(console):1:1 expected end-of-input\n%python\n^"
     ]
    }
   ],
   "source": [
    "%python\n",
    "from IPython.display import YouTubeVideo\n",
    "YouTubeVideo('6b24sszy6Js', width=800, height=300)"
   ]
  },
  {
   "cell_type": "code",
   "execution_count": 1,
   "metadata": {},
   "outputs": [
    {
     "data": {
      "text/plain": [
       "\u001b[32mimport \u001b[39m\u001b[36mscala.concurrent._,duration.Duration.Inf, java.util.concurrent.Executors\n",
       "\u001b[39m\n",
       "\u001b[36mec\u001b[39m: \u001b[32mExecutionContextExecutorService\u001b[39m = scala.concurrent.impl.ExecutionContextImpl$$anon$4@3037cd8d"
      ]
     },
     "execution_count": 1,
     "metadata": {},
     "output_type": "execute_result"
    }
   ],
   "source": [
    "import scala.concurrent._,duration.Duration.Inf, java.util.concurrent.Executors\n",
    "implicit val ec = ExecutionContext.fromExecutorService(Executors.newFixedThreadPool(3))"
   ]
  },
  {
   "cell_type": "code",
   "execution_count": 12,
   "metadata": {},
   "outputs": [
    {
     "data": {
      "text/plain": [
       "defined \u001b[32mfunction\u001b[39m \u001b[36mcount\u001b[39m"
      ]
     },
     "execution_count": 12,
     "metadata": {},
     "output_type": "execute_result"
    }
   ],
   "source": [
    "def count(numbers: Int): Int = {\n",
    "    var result = 0;\n",
    "    for( i <- Range(0, numbers)){\n",
    "        for( j <- Range(0, numbers)){\n",
    "            result += 1;\n",
    "        }\n",
    "    }\n",
    "    result;\n",
    "}"
   ]
  },
  {
   "cell_type": "code",
   "execution_count": 13,
   "metadata": {},
   "outputs": [
    {
     "data": {
      "text/html": [
       "<div class=\"jp-RenderedText\">\n",
       "<pre><code><span style=\"color: rgb(0, 187, 187)\"><span class=\"ansi-cyan-fg\">f1</span></span>: <span style=\"color: rgb(0, 187, 0)\"><span class=\"ansi-green-fg\">Future</span></span>[<span style=\"color: rgb(0, 187, 0)\"><span class=\"ansi-green-fg\">Int</span></span>] = <span style=\"color: rgb(0, 187, 0)\"><span class=\"ansi-green-fg\"><span style=\"color: white\"><span class=\"ansi-white-fg\">[running]</span></span></span></span></code></pre>\n",
       "</div>"
      ],
      "text/plain": [
       "\u001b[36mf1\u001b[39m: \u001b[32mFuture\u001b[39m[\u001b[32mInt\u001b[39m] = \u001b[32m\u001b[37m[running]\u001b[39m\u001b[39m"
      ]
     },
     "metadata": {},
     "output_type": "display_data"
    }
   ],
   "source": [
    "// do sth really big \n",
    "val f1 = Future{count(1000000000)}"
   ]
  },
  {
   "cell_type": "code",
   "execution_count": 14,
   "metadata": {},
   "outputs": [
    {
     "data": {
      "text/html": [
       "<div class=\"jp-RenderedText\">\n",
       "<pre><code><span style=\"color: rgb(0, 187, 187)\"><span class=\"ansi-cyan-fg\">f2</span></span>: <span style=\"color: rgb(0, 187, 0)\"><span class=\"ansi-green-fg\">Future</span></span>[<span style=\"color: rgb(0, 187, 0)\"><span class=\"ansi-green-fg\">String</span></span>] = <span style=\"color: rgb(0, 187, 0)\"><span class=\"ansi-green-fg\"><span style=\"color: yellow\"><span class=\"ansi-yellow-fg\">Success</span></span>(<span style=\"color: rgb(0, 187, 0)\"><span class=\"ansi-green-fg\">&quot;Hello Future World&quot;</span></span>)</span></span></code></pre>\n",
       "</div>"
      ],
      "text/plain": [
       "\u001b[36mf2\u001b[39m: \u001b[32mFuture\u001b[39m[\u001b[32mString\u001b[39m] = \u001b[32m\u001b[33mSuccess\u001b[39m(\u001b[32m\"Hello Future World\"\u001b[39m)\u001b[39m"
      ]
     },
     "metadata": {},
     "output_type": "display_data"
    }
   ],
   "source": [
    "val f2 = Future{\"Hello Future World\"}\n"
   ]
  },
  {
   "cell_type": "code",
   "execution_count": 15,
   "metadata": {},
   "outputs": [
    {
     "ename": "",
     "evalue": "",
     "output_type": "error",
     "traceback": [
      "Interrupted!\n  jdk.internal.misc.Unsafe.park(\u001b[32mNative Method\u001b[39m)\n  java.util.concurrent.locks.LockSupport.park(\u001b[32mLockSupport.java\u001b[39m:\u001b[32m194\u001b[39m)\n  java.util.concurrent.locks.AbstractQueuedSynchronizer.parkAndCheckInterrupt(\u001b[32mAbstractQueuedSynchronizer.java\u001b[39m:\u001b[32m885\u001b[39m)\n  java.util.concurrent.locks.AbstractQueuedSynchronizer.doAcquireSharedInterruptibly(\u001b[32mAbstractQueuedSynchronizer.java\u001b[39m:\u001b[32m1039\u001b[39m)\n  java.util.concurrent.locks.AbstractQueuedSynchronizer.acquireSharedInterruptibly(\u001b[32mAbstractQueuedSynchronizer.java\u001b[39m:\u001b[32m1345\u001b[39m)\n  scala.concurrent.impl.Promise$DefaultPromise.tryAwait0(\u001b[32mPromise.scala\u001b[39m:\u001b[32m207\u001b[39m)\n  scala.concurrent.impl.Promise$DefaultPromise.result(\u001b[32mPromise.scala\u001b[39m:\u001b[32m225\u001b[39m)\n  scala.concurrent.Await$.$anonfun$result$1(\u001b[32mpackage.scala\u001b[39m:\u001b[32m201\u001b[39m)\n  scala.concurrent.Await$$$Lambda$1943/0x0000000840a0e440.apply(\u001b[32mUnknown Source\u001b[39m)\n  scala.concurrent.BlockContext$DefaultBlockContext$.blockOn(\u001b[32mBlockContext.scala\u001b[39m:\u001b[32m62\u001b[39m)\n  scala.concurrent.Await$.result(\u001b[32mpackage.scala\u001b[39m:\u001b[32m124\u001b[39m)\n  ammonite.$sess.cmd14$Helper.<init>(\u001b[32mcmd14.sc\u001b[39m:\u001b[32m1\u001b[39m)\n  ammonite.$sess.cmd14$.<clinit>(\u001b[32mcmd14.sc\u001b[39m:\u001b[32m7\u001b[39m)"
     ]
    }
   ],
   "source": [
    "Await.result(f1, Inf);"
   ]
  },
  {
   "cell_type": "markdown",
   "metadata": {},
   "source": [
    "A Future can also fail to complete.  In this case an exception is thrown. In that case the ```Await.result``` will simply re-throw the exception. Futures and promises are equivalent  to callbacks."
   ]
  },
  {
   "cell_type": "markdown",
   "metadata": {},
   "source": [
    "## References"
   ]
  },
  {
   "cell_type": "markdown",
   "metadata": {},
   "source": [
    "1. Li Haoyi, ```Hands-on Scala Programming```\n",
    "2. <a href=\"https://en.wikipedia.org/wiki/Futures_and_promises\">Futures and promises</a>"
   ]
  }
 ],
 "metadata": {
  "kernelspec": {
   "display_name": "Scala",
   "language": "scala",
   "name": "scala"
  },
  "language_info": {
   "codemirror_mode": "text/x-scala",
   "file_extension": ".sc",
   "mimetype": "text/x-scala",
   "name": "scala",
   "nbconvert_exporter": "script",
   "version": "2.13.3"
  }
 },
 "nbformat": 4,
 "nbformat_minor": 4
}
