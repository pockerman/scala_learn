{
 "cells": [
  {
   "cell_type": "markdown",
   "metadata": {},
   "source": [
    "# Higher Order Functions"
   ]
  },
  {
   "cell_type": "markdown",
   "metadata": {},
   "source": [
    "---\n",
    "**Higher Order Functions**"
   ]
  },
  {
   "cell_type": "markdown",
   "metadata": {},
   "source": [
    "In mathematics and computer science, a <a href=\"https://en.wikipedia.org/wiki/Higher-order_function\">higher-order function</a> is a function that does at least one of the following [1]:"
   ]
  },
  {
   "cell_type": "markdown",
   "metadata": {},
   "source": [
    "- takes one or more functions as arguments (i.e. procedural parameters),\n",
    "- returns a function as its result."
   ]
  },
  {
   "cell_type": "markdown",
   "metadata": {},
   "source": [
    "All other functions are first-order functions. In mathematics higher-order functions are also termed operators or functionals. The differential operator in calculus is a common example, since it maps a function to its derivative which is also a function. Higher-order functions should not be confused with other uses of the word _functor_ throughout mathematics.\n",
    "\n",
    "\n",
    "---"
   ]
  },
  {
   "cell_type": "markdown",
   "metadata": {},
   "source": [
    "Functional languages treat functions as first-class values. This means that a function can be passed as a paramter and/or returned as a result; this is similar to any other value."
   ]
  },
  {
   "cell_type": "markdown",
   "metadata": {},
   "source": [
    "---\n",
    "**Function Type**\n",
    "\n",
    "A function type is written as ```A => B```. This is the type of a function that takes an argument of type ```A``` and returns a result of type ```B```. For example"
   ]
  },
  {
   "cell_type": "markdown",
   "metadata": {},
   "source": [
    "```Int => Int``` is the function that maps integers to integers\n"
   ]
  },
  {
   "cell_type": "markdown",
   "metadata": {},
   "source": [
    "Similarly "
   ]
  },
  {
   "cell_type": "markdown",
   "metadata": {},
   "source": [
    "```String => Int``` is the function that maps strings to integers\n",
    "\n",
    "\n",
    "---"
   ]
  },
  {
   "cell_type": "markdown",
   "metadata": {},
   "source": [
    "### Anonymous functions"
   ]
  },
  {
   "cell_type": "markdown",
   "metadata": {},
   "source": [
    "Treating functions as first-class values and therefore being able to pass them as function paramters, can lead to the creation of many small functions. The disadvantage of this approach is that sometimes it is tedious to define and name these functions. One way to deal with this, is to allow function literals or <a href=\"https://en.wikipedia.org/wiki/Anonymous_function\">anonymous functions</a>. For example, the function computing the cube of its integer input  "
   ]
  },
  {
   "cell_type": "markdown",
   "metadata": {},
   "source": [
    "```\n",
    "def cube(x: Int): Int = x*x*x\n",
    "```"
   ]
  },
  {
   "cell_type": "markdown",
   "metadata": {},
   "source": [
    "could be written  as"
   ]
  },
  {
   "cell_type": "markdown",
   "metadata": {},
   "source": [
    "```\n",
    "(x: Int) => x*x*x\n",
    "```"
   ]
  },
  {
   "cell_type": "markdown",
   "metadata": {},
   "source": [
    "The expression above can be simplified by omitting the type of the parameter. However, this is only possible if the compiler can infer the type from the context."
   ]
  },
  {
   "cell_type": "markdown",
   "metadata": {},
   "source": [
    "Anonymous functions are not limited to one argument only. For example the following anonymous function computes the sum of the given arguments"
   ]
  },
  {
   "cell_type": "markdown",
   "metadata": {},
   "source": [
    "```\n",
    "(x: Int, y: Int) => x + y\n",
    "```"
   ]
  },
  {
   "cell_type": "markdown",
   "metadata": {},
   "source": [
    "In Scala every anonymous function can be also be expressed using ```def```. Let's say that we have the following anonymous function ```(x1 : T1,..., xn : Tn) => E```. We can write this as follows using ```def```"
   ]
  },
  {
   "cell_type": "markdown",
   "metadata": {},
   "source": [
    "```\n",
    "def f(x1 : T1,..., xn : Tn) = E;f\n",
    "```"
   ]
  },
  {
   "cell_type": "markdown",
   "metadata": {},
   "source": [
    "---\n",
    "**Remark**"
   ]
  },
  {
   "cell_type": "markdown",
   "metadata": {},
   "source": [
    "Sometimes we need to write the above as "
   ]
  },
  {
   "cell_type": "markdown",
   "metadata": {},
   "source": [
    "```\n",
    "{def f(x1 : T1,..., xn : Tn) = E;f}\n",
    "```"
   ]
  },
  {
   "cell_type": "markdown",
   "metadata": {},
   "source": [
    "in order to avoid naming collisions\n",
    "\n",
    "---"
   ]
  },
  {
   "cell_type": "markdown",
   "metadata": {},
   "source": [
    "### Exercise"
   ]
  },
  {
   "cell_type": "markdown",
   "metadata": {},
   "source": [
    "---\n",
    "**Remark**"
   ]
  },
  {
   "cell_type": "markdown",
   "metadata": {},
   "source": [
    "This is the first exercise from Lecture 2.1 of the course <a href=\"https://www.coursera.org/learn/progfun1/home/welcome\">Functional Programming Principles in Scala</a> at <a href=\"https://www.coursera.org\">Coursera</a>\n",
    "\n",
    "---"
   ]
  },
  {
   "cell_type": "markdown",
   "metadata": {},
   "source": [
    "How can we replace the ??? in the code snippet below. "
   ]
  },
  {
   "cell_type": "markdown",
   "metadata": {},
   "source": [
    "```\n",
    "def sum(f: Int => Int)(a: Int, b: Int): Int = {\n",
    "    def loop(a: Int, b: Int): Int = {\n",
    "        if (???) ???\n",
    "        else loop(???, ???)\n",
    "    }\n",
    "    \n",
    "    loop(???, ???)\n",
    "\n",
    "}\n",
    "```"
   ]
  },
  {
   "cell_type": "markdown",
   "metadata": {},
   "source": [
    "The following can be simplified as "
   ]
  },
  {
   "cell_type": "markdown",
   "metadata": {},
   "source": [
    "```\n",
    "def sum(f: Int => Int)(a: Int, b: Int): Int = {\n",
    "    def loop(a: Int, b: Int): Int = {\n",
    "        if (a > b) acc\n",
    "        else loop(a + 1, f(a) + acc)\n",
    "    }\n",
    "    \n",
    "    loop(a, 0)\n",
    "\n",
    "}\n",
    "```"
   ]
  },
  {
   "cell_type": "markdown",
   "metadata": {},
   "source": [
    "## References"
   ]
  },
  {
   "cell_type": "markdown",
   "metadata": {},
   "source": [
    "1. <a href=\"https://en.wikipedia.org/wiki/Higher-order_function\">Higher-order function</a>\n",
    "2. <a href=\"https://en.wikipedia.org/wiki/Anonymous_function\">Anonymous function</a> "
   ]
  }
 ],
 "metadata": {
  "kernelspec": {
   "display_name": "Python 3",
   "language": "python",
   "name": "python3"
  },
  "language_info": {
   "codemirror_mode": {
    "name": "ipython",
    "version": 3
   },
   "file_extension": ".py",
   "mimetype": "text/x-python",
   "name": "python",
   "nbconvert_exporter": "python",
   "pygments_lexer": "ipython3",
   "version": "3.8.5"
  }
 },
 "nbformat": 4,
 "nbformat_minor": 4
}
