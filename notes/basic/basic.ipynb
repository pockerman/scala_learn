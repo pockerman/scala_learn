{
 "cells": [
  {
   "cell_type": "markdown",
   "metadata": {},
   "source": [
    "# Item: Basic"
   ]
  },
  {
   "cell_type": "markdown",
   "metadata": {},
   "source": [
    "Scala is built on top of the Java virtual machine i.e. a Scala program is compiled to use JVM bytecode. In this part of the notes we want to get accustomed with how a simple Scala  program looks like and with typical developer tools."
   ]
  },
  {
   "cell_type": "markdown",
   "metadata": {},
   "source": [
    "The following are two ways to create a simple ```HelloWorld``` program in Scala."
   ]
  },
  {
   "cell_type": "markdown",
   "metadata": {},
   "source": [
    "```\n",
    "object HelloWorld extends App{\n",
    "    println(\"Hello Scala World\")\n",
    "}\n",
    "```"
   ]
  },
  {
   "cell_type": "markdown",
   "metadata": {},
   "source": [
    "or, alternatively, we could use"
   ]
  },
  {
   "cell_type": "markdown",
   "metadata": {},
   "source": [
    "```\n",
    "object HelloWorld {\n",
    "  def main(args: Array[String]) {\n",
    "    println(\"Hello, World!\")\n",
    "  }\n",
    "}\n",
    "```"
   ]
  },
  {
   "cell_type": "markdown",
   "metadata": {},
   "source": [
    "The ```main``` method is the starting point of every Scala application.In Scala, the ```main``` or entry point method is defined in an ```object```. An ```object``` can be made executable by either extending the type ```App``` or by adding a method ```def main(args: Array[String])```. "
   ]
  },
  {
   "cell_type": "markdown",
   "metadata": {},
   "source": [
    "The ```object``` is a type of a Scala class that can have only one instance. Indeed this is the way of implementing the singleton pattern with Scala.  "
   ]
  },
  {
   "cell_type": "markdown",
   "metadata": {},
   "source": [
    "---\n",
    "**Remark**"
   ]
  },
  {
   "cell_type": "markdown",
   "metadata": {},
   "source": [
    "Scala programs are organized into packages. Packages can be nested to form a hierarchy of namespaces. The above sniipets have no package declaration, so they belong to the so-called ```default``` package. Modules from a default package can not be imported from another package.\n",
    "\n",
    "---"
   ]
  },
  {
   "cell_type": "markdown",
   "metadata": {},
   "source": [
    "Scala source code is stored in text files with the extension ```.scala```. Typically, we create one source file for each class, or one source file for a class hierarchy: However, Scala allows multiple classes and objects to be defined in the same source file."
   ]
  },
  {
   "cell_type": "markdown",
   "metadata": {},
   "source": [
    "---\n",
    "**Remark**"
   ]
  },
  {
   "cell_type": "markdown",
   "metadata": {},
   "source": [
    "- The name of a Scala source file can be chosen freely, but it is recommended to use the name of a class which is defined in that file."
   ]
  },
  {
   "cell_type": "markdown",
   "metadata": {},
   "source": [
    "- Package hierarchies should be reflected in directory structure: a source file defining class ```C``` in package ```foo.bar``` should be stored in a subdirectory as ```foo/bar/C.scala```. Scala does not really enforce this convention, but some tools such as the Scala IDE for eclipse might have problems otherwise."
   ]
  },
  {
   "cell_type": "markdown",
   "metadata": {},
   "source": [
    "---"
   ]
  },
  {
   "cell_type": "markdown",
   "metadata": {},
   "source": [
    "#### The ```classpath```"
   ]
  },
  {
   "cell_type": "markdown",
   "metadata": {},
   "source": [
    "The scala compiler compiles ```.scala source``` files to ```.class``` files, like the Java compiler. Classfiles are binary files containing machine code for the Java Virtual Machine. In order to run a Scala program, the JVM has to know the directory where classfiles are stored. This parameter is called the ```classpath```."
   ]
  },
  {
   "cell_type": "markdown",
   "metadata": {},
   "source": [
    "#### Style"
   ]
  },
  {
   "cell_type": "markdown",
   "metadata": {},
   "source": [
    "Some of the style issues can be detected by the automated style checker that we also use for the grading process. The style checker, which is based on Scalastyle, can be executed locally in sbt by running the ```styleCheck``` task."
   ]
  },
  {
   "cell_type": "markdown",
   "metadata": {},
   "source": [
    "## Scala project structure"
   ]
  },
  {
   "cell_type": "markdown",
   "metadata": {},
   "source": [
    "We will be using the ```sbt``` tool in order to build our projects. This is probably the most used build tool in the Scala ecosystem. The ```sbt``` tool requires a ```build.sbt``` file describing the dependencies of our project, the Scala version to use and other details. Let's review some basic commands of ```sbt```"
   ]
  },
  {
   "cell_type": "markdown",
   "metadata": {},
   "source": [
    "- ```sbt run```: executes the ```main``` function of the project"
   ]
  },
  {
   "cell_type": "markdown",
   "metadata": {},
   "source": [
    "- ```sbt package```: prepares an output artifact"
   ]
  },
  {
   "cell_type": "markdown",
   "metadata": {},
   "source": [
    "- ```sbt compile```: compiles our project"
   ]
  }
 ],
 "metadata": {
  "kernelspec": {
   "display_name": "Scala",
   "language": "scala",
   "name": "scala"
  },
  "language_info": {
   "codemirror_mode": "text/x-scala",
   "file_extension": ".sc",
   "mimetype": "text/x-scala",
   "name": "scala",
   "nbconvert_exporter": "script",
   "version": "2.13.3"
  }
 },
 "nbformat": 4,
 "nbformat_minor": 4
}
