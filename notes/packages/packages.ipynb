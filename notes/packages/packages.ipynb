{
 "cells": [
  {
   "cell_type": "markdown",
   "metadata": {},
   "source": [
    "# Packages"
   ]
  },
  {
   "cell_type": "markdown",
   "metadata": {},
   "source": [
    "* [Overview](#overview)\n",
    "* [Packages](#sec1)\n",
    "* [References](#refs)"
   ]
  },
  {
   "cell_type": "markdown",
   "metadata": {},
   "source": [
    "In this section we will review packages in Scala."
   ]
  },
  {
   "cell_type": "markdown",
   "metadata": {},
   "source": [
    "Packages in Scala fulfill the same purpose as packages in Java or namespaces in\n",
    "C++: to manage names in a large program. For example, the name ```Map``` can occur\n",
    "in the packages ```scala.collection.immutable``` and ```scala.collection.mutable``` without conflict. To access either name, you can use the fully qualified ```scala.collection.immutable.Map```\n",
    "or ```scala.collection.mutable.Map``` . Alternatively, use an import statement to provide a shorter alias"
   ]
  },
  {
   "cell_type": "markdown",
   "metadata": {},
   "source": [
    "To add items to a package, you can include them in package statements, such as:"
   ]
  },
  {
   "cell_type": "markdown",
   "metadata": {},
   "source": [
    "```\n",
    "package com {\n",
    "package horstmann {\n",
    "package impatient {\n",
    "class Employee\n",
    "\n",
    "}\n",
    "}\n",
    "}\n",
    "```"
   ]
  },
  {
   "cell_type": "markdown",
   "metadata": {},
   "source": [
    "Unlike the definition of an object or a class, a package can be defined in multiple\n",
    "files. The preceding code might be in a file ```Employee.scala``` , and a file ```Manager.scala``` might contain"
   ]
  },
  {
   "cell_type": "markdown",
   "metadata": {},
   "source": [
    "```\n",
    "package com {\n",
    "package horstmann {\n",
    "package impatient {\n",
    "class Manager\n",
    "...\n",
    "}\n",
    "}\n",
    "}\n",
    "```"
   ]
  },
  {
   "cell_type": "markdown",
   "metadata": {},
   "source": [
    "Conversely, you can contribute to more than one package in a single file. The file\n",
    "```Employee.scala``` can contain"
   ]
  },
  {
   "cell_type": "markdown",
   "metadata": {},
   "source": [
    "All in all"
   ]
  },
  {
   "cell_type": "markdown",
   "metadata": {},
   "source": [
    "- Packages can nest just like inner classes\n",
    "- Paths are not absolute\n",
    "- When using a chain ```p1.p2.p3``` to import a package does not import the intermediate packages\n",
    "- Package statements without braces at the top of the file extend to the entire file\n",
    "- A package object can hold functions and variables.\n",
    "- Import statements can import packages, classes, and objects.\n",
    "- Import statements can be anywhere\n",
    "- Import statements can rename and hide members\n",
    "- ```java.lang, scala, Predef``` are always imported."
   ]
  },
  {
   "cell_type": "markdown",
   "metadata": {},
   "source": [
    "## <a name=\"refs\"></a> References"
   ]
  },
  {
   "cell_type": "markdown",
   "metadata": {},
   "source": [
    "1. Cay Horstmann, ```Scala for the Impatient 1st Edition```"
   ]
  }
 ],
 "metadata": {
  "kernelspec": {
   "display_name": "Scala",
   "language": "scala",
   "name": "scala"
  },
  "language_info": {
   "codemirror_mode": "text/x-scala",
   "file_extension": ".sc",
   "mimetype": "text/x-scala",
   "name": "scala",
   "nbconvert_exporter": "script",
   "version": "2.13.3"
  }
 },
 "nbformat": 4,
 "nbformat_minor": 4
}
