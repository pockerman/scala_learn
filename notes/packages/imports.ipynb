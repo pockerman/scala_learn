{
 "cells": [
  {
   "cell_type": "markdown",
   "metadata": {},
   "source": [
    "# Imports"
   ]
  },
  {
   "cell_type": "markdown",
   "metadata": {},
   "source": [
    "Imports let you use short names instead of long ones. With the clause"
   ]
  },
  {
   "cell_type": "markdown",
   "metadata": {},
   "source": [
    "you can write ```Color``` in your code instead of ```java.awt.Color``` . That is the sole purpose of imports. If you don’t mind long names, you’ll never need them."
   ]
  },
  {
   "cell_type": "markdown",
   "metadata": {},
   "source": [
    "You can import all members of a package as"
   ]
  },
  {
   "cell_type": "markdown",
   "metadata": {},
   "source": [
    "```\n",
    "import java.awt._\n",
    "```"
   ]
  },
  {
   "cell_type": "markdown",
   "metadata": {},
   "source": [
    "This is the same as the * wildcard in Java. (In Scala, ```*``` is a valid character for an\n",
    "identifier. You could define a package ```com.horstmann.*.people``` , but please don’t.) You can also import all members of a class or object."
   ]
  },
  {
   "cell_type": "markdown",
   "metadata": {},
   "source": [
    "```\n",
    "import java.awt.Color._\n",
    "val c1 = RED // Color.RED\n",
    "val c2 = decode(\"#ff0000\") // Color.decode\n",
    "```"
   ]
  },
  {
   "cell_type": "markdown",
   "metadata": {},
   "source": [
    "In Scala, an import statement can be anywhere, not just at the top of a file. The\n",
    "scope of the import statement extends until the end of the enclosing block. For\n",
    "example,"
   ]
  },
  {
   "cell_type": "markdown",
   "metadata": {},
   "source": [
    "```\n",
    "class Manager {\n",
    "import scala.collection.mutable._\n",
    "val subordinates = new ArrayBuffer[Employee]\n",
    "...\n",
    "}\n",
    "```"
   ]
  },
  {
   "cell_type": "markdown",
   "metadata": {},
   "source": [
    "This is a very useful feature, particularly with wildcard imports. It is always a\n",
    "bit worrisome to import lots of names from different sources. In fact, some Java\n",
    "programmers dislike wildcard imports so much that they never use them, but\n",
    "let their IDE generate long lists of imported classes.\n",
    "By putting the imports where they are needed, you can greatly reduce the\n",
    "potential for conflicts."
   ]
  },
  {
   "cell_type": "markdown",
   "metadata": {},
   "source": [
    "## Renaming and Hiding Members"
   ]
  },
  {
   "cell_type": "markdown",
   "metadata": {},
   "source": [
    "If you want to import a few members from a package, use a selector like this"
   ]
  },
  {
   "cell_type": "markdown",
   "metadata": {},
   "source": [
    "```\n",
    "import java.awt.{Color, Font}\n",
    "```"
   ]
  },
  {
   "cell_type": "markdown",
   "metadata": {},
   "source": [
    "The selector syntax lets you rename members:"
   ]
  },
  {
   "cell_type": "markdown",
   "metadata": {},
   "source": [
    "```\n",
    "import java.util.{HashMap => JavaHashMap}\n",
    "import scala.collection.mutable._\n",
    "```"
   ]
  },
  {
   "cell_type": "markdown",
   "metadata": {},
   "source": [
    "Now ```JavaHashMap``` is a ```java.util.HashMap``` and plain ```HashMap``` is a ```scala.collection.mutable.HashMap``` .\n",
    "The selector ```HashMap => _``` hides a member instead of renaming it. This is only useful if you import others:"
   ]
  },
  {
   "cell_type": "markdown",
   "metadata": {},
   "source": [
    "## Implicit Imports"
   ]
  },
  {
   "cell_type": "code",
   "execution_count": null,
   "metadata": {},
   "outputs": [],
   "source": []
  }
 ],
 "metadata": {
  "kernelspec": {
   "display_name": "Scala",
   "language": "scala",
   "name": "scala"
  },
  "language_info": {
   "codemirror_mode": "text/x-scala",
   "file_extension": ".sc",
   "mimetype": "text/x-scala",
   "name": "scala",
   "nbconvert_exporter": "script",
   "version": "2.13.3"
  }
 },
 "nbformat": 4,
 "nbformat_minor": 4
}
