{
 "cells": [
  {
   "cell_type": "markdown",
   "metadata": {},
   "source": [
    "# Package  Objects"
   ]
  },
  {
   "cell_type": "markdown",
   "metadata": {},
   "source": [
    "A package can contain classes, objects, and traits, but not the definitions of\n",
    "functions or variables. That’s an unfortunate limitation of the Java virtual machine.\n",
    "It would make more sense to add utility functions or constants to a package than\n",
    "to some ```Utils``` object. Package objects address this limitation."
   ]
  },
  {
   "cell_type": "markdown",
   "metadata": {},
   "source": [
    "```\n",
    "package com.horstmann.impatient\n",
    "package object people {\n",
    "val defaultName = \"John Q. Public\"\n",
    "}\n",
    "package people {\n",
    "class Person {\n",
    "var name = defaultName // A constant from the package\n",
    "}\n",
    "...\n",
    "}\n",
    "```"
   ]
  },
  {
   "cell_type": "markdown",
   "metadata": {},
   "source": [
    "Behind the scenes, the package object gets compiled into a JVM class with static\n",
    "methods and fields, called ```package.class``` , inside the package. In our example, that would be a class c```om.horstmann.impatient.people.package``` with a static field ```defaultName``` . (In the JVM, you can use package as a class name.)"
   ]
  }
 ],
 "metadata": {
  "kernelspec": {
   "display_name": "Scala",
   "language": "scala",
   "name": "scala"
  },
  "language_info": {
   "codemirror_mode": "text/x-scala",
   "file_extension": ".sc",
   "mimetype": "text/x-scala",
   "name": "scala",
   "nbconvert_exporter": "script",
   "version": "2.13.3"
  }
 },
 "nbformat": 4,
 "nbformat_minor": 4
}
