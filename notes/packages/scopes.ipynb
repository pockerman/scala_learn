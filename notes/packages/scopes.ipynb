{
 "cells": [
  {
   "cell_type": "markdown",
   "metadata": {},
   "source": [
    "# Scopes"
   ]
  },
  {
   "cell_type": "markdown",
   "metadata": {},
   "source": [
    "In Scala, the scope rules for packages are more consistent than those in Java. Scala\n",
    "packages nest just like all other scopes. You can access names from the enclosing\n",
    "scope. For example"
   ]
  },
  {
   "cell_type": "markdown",
   "metadata": {},
   "source": [
    "```\n",
    "package com {\n",
    "package horstmann {\n",
    "object Utils {\n",
    "def percentOf(value: Double, rate: Double) = value * rate / 100\n",
    "...\n",
    "}\n",
    "package impatient {\n",
    "class Employee {\n",
    "...\n",
    "def giveRaise(rate: scala.Double) {\n",
    "salary += Utils.percentOf(salary, rate)\n",
    "}\n",
    "}\n",
    "}\n",
    "}\n",
    "}\n",
    "```"
   ]
  },
  {
   "cell_type": "markdown",
   "metadata": {},
   "source": [
    "Note the ```Utils.percentOf``` qualifier. The ```Utils``` class was defined in the parent package. Everything in the parent package is in scope, and it is not necessary to use ```com.horstmann.Utils.percentOf```. (You could, though, if you prefer—after all, com is also\n",
    "in scope.)"
   ]
  },
  {
   "cell_type": "markdown",
   "metadata": {},
   "source": [
    "There is a fly in the ointment, however. Consider"
   ]
  },
  {
   "cell_type": "markdown",
   "metadata": {},
   "source": [
    "```\n",
    "package com {\n",
    "package horstmann {\n",
    "package impatient {\n",
    "class Manager {\n",
    "val subordinates = new collection.mutable.ArrayBuffer[Employee]\n",
    "...\n",
    "}\n",
    "}\n",
    "}\n",
    "}\n",
    "```"
   ]
  },
  {
   "cell_type": "markdown",
   "metadata": {},
   "source": [
    "This code takes advantage of the fact that the ```scala``` package is always imported.\n",
    "Therefore, the collection package is actually ```scala.collection``` ."
   ]
  },
  {
   "cell_type": "markdown",
   "metadata": {},
   "source": [
    "And now suppose someone introduces the following package, perhaps in a\n",
    "different file:"
   ]
  },
  {
   "cell_type": "markdown",
   "metadata": {},
   "source": [
    "```\n",
    "package com {\n",
    "package horstmann {\n",
    "package collection {\n",
    "...\n",
    "}\n",
    "}\n",
    "}\n",
    "```"
   ]
  },
  {
   "cell_type": "markdown",
   "metadata": {},
   "source": [
    "Now the ```Manager``` class no longer compiles. It looks for a mutable member inside the\n",
    "```com.horstmann.collection``` package and doesn’t find it. The intent in the ```Manager``` class was the collection package in the top-level scala package, not whatever collection\n",
    "subpackage happened to be in some accessible scope."
   ]
  },
  {
   "cell_type": "markdown",
   "metadata": {},
   "source": [
    "In Java, this problem can’t occur because package names are always absolute,\n",
    "starting at the root of the package hierarchy. But in Scala, package names are\n",
    "relative, just like inner class names. With inner classes, one doesn’t usually run\n",
    "into problems because all the code is in one file, under control of whoever is in\n",
    "charge of that file. But packages are open-ended. Anyone can contribute to a\n",
    "package at any time."
   ]
  },
  {
   "cell_type": "markdown",
   "metadata": {},
   "source": [
    "One solution is to use absolute package names, starting with ```_root_``` , for example:"
   ]
  },
  {
   "cell_type": "markdown",
   "metadata": {},
   "source": [
    "```\n",
    "val subordinates = new _root_.scala.collection.mutable.ArrayBuffer[Employee]\n",
    "```"
   ]
  },
  {
   "cell_type": "markdown",
   "metadata": {},
   "source": [
    "Another approach is to use “chained” package clauses, as detailed in the next\n",
    "section."
   ]
  },
  {
   "cell_type": "markdown",
   "metadata": {},
   "source": [
    "As a final note, it is ok to use complete paths for package names, without\n",
    "the ```_root_``` prefix. This is safe as long as everyone avoids names ```scala```, ```java```, ```com```, ```org```, and so on, for nested packages."
   ]
  },
  {
   "cell_type": "markdown",
   "metadata": {},
   "source": [
    "## <a name=\"refs\"></a> References"
   ]
  },
  {
   "cell_type": "markdown",
   "metadata": {},
   "source": [
    "1. Cay Horstmann, ```Scala for the Impatient 1st Edition```"
   ]
  }
 ],
 "metadata": {
  "kernelspec": {
   "display_name": "Scala",
   "language": "scala",
   "name": "scala"
  },
  "language_info": {
   "codemirror_mode": "text/x-scala",
   "file_extension": ".sc",
   "mimetype": "text/x-scala",
   "name": "scala",
   "nbconvert_exporter": "script",
   "version": "2.13.3"
  }
 },
 "nbformat": 4,
 "nbformat_minor": 4
}
