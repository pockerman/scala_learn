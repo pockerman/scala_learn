{
 "cells": [
  {
   "cell_type": "markdown",
   "metadata": {},
   "source": [
    "# Value Iteration"
   ]
  },
  {
   "cell_type": "code",
   "execution_count": 2,
   "metadata": {},
   "outputs": [
    {
     "data": {
      "text/plain": [
       "\u001b[32mimport \u001b[39m\u001b[36mscala.collection.mutable.ArrayBuffer\u001b[39m"
      ]
     },
     "execution_count": 2,
     "metadata": {},
     "output_type": "execute_result"
    }
   ],
   "source": [
    "import scala.collection.mutable.ArrayBuffer"
   ]
  },
  {
   "cell_type": "code",
   "execution_count": 14,
   "metadata": {},
   "outputs": [
    {
     "data": {
      "text/plain": [
       "defined \u001b[32mobject\u001b[39m \u001b[36mGrid\u001b[39m"
      ]
     },
     "execution_count": 14,
     "metadata": {},
     "output_type": "execute_result"
    }
   ],
   "source": [
    "object Grid{\n",
    "    \n",
    "    class State(val idx: Int){\n",
    "        \n",
    "    }\n",
    "}"
   ]
  },
  {
   "cell_type": "code",
   "execution_count": 15,
   "metadata": {},
   "outputs": [
    {
     "data": {
      "text/plain": [
       "defined \u001b[32mclass\u001b[39m \u001b[36mGrid\u001b[39m"
      ]
     },
     "execution_count": 15,
     "metadata": {},
     "output_type": "execute_result"
    }
   ],
   "source": [
    "class Grid{\n",
    "    \n",
    "    val states = new ArrayBuffer[Grid.State]()\n",
    "    \n",
    "    \n",
    "    def nStates : Int = states.size\n",
    "    def nActions: Int = 4\n",
    "    def envDynamics(state: Grid.State, action: Int): (Double, Grid.State, Double, Boolean) = {\n",
    "        (0.0, null, 0.0, false)\n",
    "    }\n",
    "    \n",
    "}"
   ]
  },
  {
   "cell_type": "code",
   "execution_count": 16,
   "metadata": {},
   "outputs": [
    {
     "data": {
      "text/plain": [
       "defined \u001b[32mclass\u001b[39m \u001b[36mValueIteration\u001b[39m"
      ]
     },
     "execution_count": 16,
     "metadata": {},
     "output_type": "execute_result"
    }
   ],
   "source": [
    "class ValueIteration(val numIterations: Int, val tolerance: Double,\n",
    "                    val gamma: Double){\n",
    "    \n",
    "    val valueF = ArrayBuffer[Double]()\n",
    "    \n",
    "    def train(grid: Grid): Unit = {\n",
    "        \n",
    "        for(itr <- Range(0, numIterations)){\n",
    "            \n",
    "            step(grid)\n",
    "        }\n",
    "        \n",
    "    }\n",
    "    \n",
    "    def step(grid: Grid): Unit = {\n",
    "        \n",
    "        var delta: Double = 0.0\n",
    "        \n",
    "    }\n",
    "    \n",
    "    // Helper function to calculate the value for \n",
    "    // all action in a given state.\n",
    "    // Returns a vector of length grid.nActions containing \n",
    "    // the expected value of each action.\n",
    "    def one_step_lookahead(grid: Grid, state: Grid.State): ArrayBuffer[Double] = {\n",
    "        \n",
    "         val values = new ArrayBuffer[Double](grid.nActions)\n",
    "        \n",
    "         for(i <- Range(0, grid.nActions)){\n",
    "                val (prob, next_state, reward, done) = grid.envDynamics(state, i)\n",
    "                values(i) += prob * (reward + this.gamma * valueF(next_state.idx))\n",
    "         }\n",
    "                                     \n",
    "         values\n",
    "        \n",
    "    }\n",
    "       \n",
    "}"
   ]
  },
  {
   "cell_type": "code",
   "execution_count": null,
   "metadata": {},
   "outputs": [],
   "source": []
  }
 ],
 "metadata": {
  "kernelspec": {
   "display_name": "Scala",
   "language": "scala",
   "name": "scala"
  },
  "language_info": {
   "codemirror_mode": "text/x-scala",
   "file_extension": ".sc",
   "mimetype": "text/x-scala",
   "name": "scala",
   "nbconvert_exporter": "script",
   "version": "2.13.3"
  }
 },
 "nbformat": 4,
 "nbformat_minor": 4
}
