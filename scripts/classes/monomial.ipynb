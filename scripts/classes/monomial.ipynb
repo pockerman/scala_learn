{
 "cells": [
  {
   "cell_type": "code",
   "execution_count": 89,
   "metadata": {},
   "outputs": [
    {
     "data": {
      "text/plain": [
       "defined \u001b[32mclass\u001b[39m \u001b[36mMonomial\u001b[39m"
      ]
     },
     "execution_count": 89,
     "metadata": {},
     "output_type": "execute_result"
    }
   ],
   "source": [
    "\n",
    "class Monomial(degree: Int, factor: Double) {\n",
    "\n",
    "  val d: Int = degree;\n",
    "  val f: Double = factor;\n",
    "\n",
    "  //Default constructor\n",
    "  def this() {this(1, 1.0)}\n",
    "    \n",
    "  // string representation of the monomial\n",
    "  override def toString(): String= f + \"*x^\" + d \n",
    "\n",
    "  //compute the value of the monomial on the given point\n",
    "  def value(x: Double):Double= f*scala.math.pow(x,d)\n",
    "\n",
    "  //Returns the degree of the monomial\n",
    "  def getDegree():Int= d\n",
    "\n",
    "  //Returns the factor of the monomial\n",
    "  def getFactor():Double = f\n",
    "\n",
    "  //Compute the gradient of the monomial\n",
    "  def getGrad(x: Double): Double= getGrad(x, 1)//d*f*scala.math.pow(x, d-1)\n",
    "    \n",
    "\n",
    "  // returns the order-th gradient of the monomial\n",
    "  def getGrad(x: Double, order: Int): Double = {\n",
    "\n",
    "    if(order > degree){\n",
    "      return 0.0\n",
    "    }\n",
    "      \n",
    "    var newOrder = d\n",
    "    var newCoeff = factor;\n",
    "      \n",
    "    for( o <- Range(0, order) ){\n",
    "\n",
    "      newCoeff *= newOrder\n",
    "      newOrder -= 1\n",
    "    }\n",
    "\n",
    "    new Monomial(newOrder, newCoeff).value(x)\n",
    "  }\n",
    "\n",
    "}\n"
   ]
  },
  {
   "cell_type": "code",
   "execution_count": 90,
   "metadata": {},
   "outputs": [
    {
     "data": {
      "text/html": [
       "<div class=\"jp-RenderedText\">\n",
       "<pre><code><span style=\"color: rgb(0, 187, 187)\"><span class=\"ansi-cyan-fg\">mon</span></span>: <span style=\"color: rgb(0, 187, 0)\"><span class=\"ansi-green-fg\">Monomial</span></span> = 1.0*x^1</code></pre>\n",
       "</div>"
      ],
      "text/plain": [
       "\u001b[36mmon\u001b[39m: \u001b[32mMonomial\u001b[39m = 1.0*x^1"
      ]
     },
     "metadata": {},
     "output_type": "display_data"
    }
   ],
   "source": [
    "var mon = new Monomial"
   ]
  },
  {
   "cell_type": "code",
   "execution_count": 91,
   "metadata": {},
   "outputs": [
    {
     "name": "stdout",
     "output_type": "stream",
     "text": [
      "1.0*x^1\n"
     ]
    }
   ],
   "source": [
    "System.out.println(mon.toString)"
   ]
  },
  {
   "cell_type": "code",
   "execution_count": 69,
   "metadata": {},
   "outputs": [
    {
     "data": {
      "text/plain": [
       "\u001b[36mres68\u001b[39m: \u001b[32mDouble\u001b[39m = \u001b[32m0.0\u001b[39m"
      ]
     },
     "execution_count": 69,
     "metadata": {},
     "output_type": "execute_result"
    }
   ],
   "source": [
    "mon.value(0.0)"
   ]
  },
  {
   "cell_type": "code",
   "execution_count": 70,
   "metadata": {},
   "outputs": [
    {
     "data": {
      "text/plain": [
       "\u001b[36mres69\u001b[39m: \u001b[32mDouble\u001b[39m = \u001b[32m1.0\u001b[39m"
      ]
     },
     "execution_count": 70,
     "metadata": {},
     "output_type": "execute_result"
    }
   ],
   "source": [
    "mon.value(1.0)"
   ]
  },
  {
   "cell_type": "code",
   "execution_count": 71,
   "metadata": {},
   "outputs": [
    {
     "data": {
      "text/plain": [
       "\u001b[36mres70\u001b[39m: \u001b[32mDouble\u001b[39m = \u001b[32m2.0\u001b[39m"
      ]
     },
     "execution_count": 71,
     "metadata": {},
     "output_type": "execute_result"
    }
   ],
   "source": [
    "mon.value(2.0)"
   ]
  },
  {
   "cell_type": "code",
   "execution_count": 72,
   "metadata": {},
   "outputs": [
    {
     "data": {
      "text/plain": [
       "\u001b[36mres71\u001b[39m: \u001b[32mDouble\u001b[39m = \u001b[32m1.0\u001b[39m"
      ]
     },
     "execution_count": 72,
     "metadata": {},
     "output_type": "execute_result"
    }
   ],
   "source": [
    "mon.getGrad(2.0)"
   ]
  },
  {
   "cell_type": "code",
   "execution_count": 73,
   "metadata": {},
   "outputs": [
    {
     "data": {
      "text/plain": [
       "\u001b[36mres72\u001b[39m: \u001b[32mDouble\u001b[39m = \u001b[32m1.0\u001b[39m"
      ]
     },
     "execution_count": 73,
     "metadata": {},
     "output_type": "execute_result"
    }
   ],
   "source": [
    "mon.getGrad(2.0, 1)"
   ]
  },
  {
   "cell_type": "code",
   "execution_count": 74,
   "metadata": {},
   "outputs": [
    {
     "data": {
      "text/plain": [
       "\u001b[36mres73\u001b[39m: \u001b[32mDouble\u001b[39m = \u001b[32m0.0\u001b[39m"
      ]
     },
     "execution_count": 74,
     "metadata": {},
     "output_type": "execute_result"
    }
   ],
   "source": [
    "mon.getGrad(2.0, 2)"
   ]
  },
  {
   "cell_type": "code",
   "execution_count": 75,
   "metadata": {},
   "outputs": [],
   "source": [
    "mon = new Monomial(2, 1.0)"
   ]
  },
  {
   "cell_type": "code",
   "execution_count": 76,
   "metadata": {},
   "outputs": [
    {
     "data": {
      "text/plain": [
       "\u001b[36mres75\u001b[39m: \u001b[32mDouble\u001b[39m = \u001b[32m0.0\u001b[39m"
      ]
     },
     "execution_count": 76,
     "metadata": {},
     "output_type": "execute_result"
    }
   ],
   "source": [
    "mon.value(0.0)"
   ]
  },
  {
   "cell_type": "code",
   "execution_count": 77,
   "metadata": {},
   "outputs": [
    {
     "data": {
      "text/plain": [
       "\u001b[36mres76\u001b[39m: \u001b[32mDouble\u001b[39m = \u001b[32m1.0\u001b[39m"
      ]
     },
     "execution_count": 77,
     "metadata": {},
     "output_type": "execute_result"
    }
   ],
   "source": [
    "mon.value(1.0)"
   ]
  },
  {
   "cell_type": "code",
   "execution_count": 78,
   "metadata": {},
   "outputs": [
    {
     "data": {
      "text/plain": [
       "\u001b[36mres77\u001b[39m: \u001b[32mDouble\u001b[39m = \u001b[32m4.0\u001b[39m"
      ]
     },
     "execution_count": 78,
     "metadata": {},
     "output_type": "execute_result"
    }
   ],
   "source": [
    "mon.value(2.0)"
   ]
  },
  {
   "cell_type": "code",
   "execution_count": 79,
   "metadata": {},
   "outputs": [
    {
     "data": {
      "text/plain": [
       "\u001b[36mres78\u001b[39m: \u001b[32mDouble\u001b[39m = \u001b[32m4.0\u001b[39m"
      ]
     },
     "execution_count": 79,
     "metadata": {},
     "output_type": "execute_result"
    }
   ],
   "source": [
    "mon.getGrad(2.0)"
   ]
  },
  {
   "cell_type": "code",
   "execution_count": 80,
   "metadata": {},
   "outputs": [
    {
     "data": {
      "text/plain": [
       "\u001b[36mres79\u001b[39m: \u001b[32mDouble\u001b[39m = \u001b[32m4.0\u001b[39m"
      ]
     },
     "execution_count": 80,
     "metadata": {},
     "output_type": "execute_result"
    }
   ],
   "source": [
    "mon.getGrad(2.0, 1)"
   ]
  },
  {
   "cell_type": "code",
   "execution_count": 81,
   "metadata": {},
   "outputs": [
    {
     "data": {
      "text/plain": [
       "\u001b[36mres80\u001b[39m: \u001b[32mDouble\u001b[39m = \u001b[32m2.0\u001b[39m"
      ]
     },
     "execution_count": 81,
     "metadata": {},
     "output_type": "execute_result"
    }
   ],
   "source": [
    "mon.getGrad(2.0, 2)"
   ]
  },
  {
   "cell_type": "code",
   "execution_count": 82,
   "metadata": {},
   "outputs": [
    {
     "data": {
      "text/plain": [
       "\u001b[36mres81\u001b[39m: \u001b[32mDouble\u001b[39m = \u001b[32m0.0\u001b[39m"
      ]
     },
     "execution_count": 82,
     "metadata": {},
     "output_type": "execute_result"
    }
   ],
   "source": [
    "mon.getGrad(2.0, 3)"
   ]
  },
  {
   "cell_type": "code",
   "execution_count": 101,
   "metadata": {},
   "outputs": [
    {
     "data": {
      "text/plain": [
       "defined \u001b[32mclass\u001b[39m \u001b[36mPolynomial\u001b[39m"
      ]
     },
     "execution_count": 101,
     "metadata": {},
     "output_type": "execute_result"
    }
   ],
   "source": [
    "// Represents a polynomial. A polynomial is modeled as\n",
    "// a list of monomials\n",
    "class Polynomial(coeffs: Array[Double]) {\n",
    "\n",
    "  // The maximum degree of the polynomial\n",
    "  var maxDegree = 0\n",
    "    \n",
    "  // The monomials modeling the Polynomial\n",
    "  var monomials = createMonomials(coeffs)\n",
    "    \n",
    "\n",
    "  override def toString():String = {\n",
    "      \n",
    "      var str: String = \"\"\n",
    "      for(mon <- monomials){\n",
    "          str += mon.toString + \" + \"\n",
    "      }\n",
    "      return str.substring(0, str.length - 2)\n",
    "  } \n",
    "    \n",
    "  // The value of the Polynomial at x\n",
    "  def value(x: Double):Double= {\n",
    "\n",
    "    var result: Double = 0.0\n",
    "\n",
    "    for( mon <- monomials) {\n",
    "      result += mon.value(x) \n",
    "    }\n",
    "    result\n",
    "  }\n",
    "    \n",
    "  // Return the order-th gradient of the polynomial\n",
    "  def getGrad(x: Double, order: Integer): Double= {\n",
    "\n",
    "    if (order > maxDegree){\n",
    "      return 0.0\n",
    "    }\n",
    "\n",
    "    var result = 0.0\n",
    "    for(mon <- monomials){\n",
    "      result += mon.getGrad(x, order)\n",
    "    }\n",
    "    result\n",
    "  }\n",
    "    \n",
    "  private def createMonomials(coeffs: Array[Double]): Array[Monomial] = {\n",
    "\n",
    "    var mon: Array[Monomial] = new Array[Monomial](coeffs.length)\n",
    "\n",
    "    var degree: Int = 0\n",
    "    for( c <- coeffs) {\n",
    "      mon.update(degree, new Monomial(degree, c))\n",
    "      maxDegree = degree\n",
    "      degree += 1\n",
    "    }\n",
    "    mon\n",
    "  }\n",
    "}\n"
   ]
  },
  {
   "cell_type": "code",
   "execution_count": 102,
   "metadata": {},
   "outputs": [
    {
     "data": {
      "text/html": [
       "<div class=\"jp-RenderedText\">\n",
       "<pre><code><span style=\"color: rgb(0, 187, 187)\"><span class=\"ansi-cyan-fg\">coeffs</span></span>: <span style=\"color: rgb(0, 187, 0)\"><span class=\"ansi-green-fg\">Array</span></span>[<span style=\"color: rgb(0, 187, 0)\"><span class=\"ansi-green-fg\">Double</span></span>] = <span style=\"color: yellow\"><span class=\"ansi-yellow-fg\">Array</span></span>(<span style=\"color: rgb(0, 187, 0)\"><span class=\"ansi-green-fg\">1.0</span></span>, <span style=\"color: rgb(0, 187, 0)\"><span class=\"ansi-green-fg\">2.0</span></span>)\n",
       "<span style=\"color: rgb(0, 187, 187)\"><span class=\"ansi-cyan-fg\">poly</span></span>: <span style=\"color: rgb(0, 187, 0)\"><span class=\"ansi-green-fg\">Polynomial</span></span> = 1.0*x^0 + 2.0*x^1 </code></pre>\n",
       "</div>"
      ],
      "text/plain": [
       "\u001b[36mcoeffs\u001b[39m: \u001b[32mArray\u001b[39m[\u001b[32mDouble\u001b[39m] = \u001b[33mArray\u001b[39m(\u001b[32m1.0\u001b[39m, \u001b[32m2.0\u001b[39m)\n",
       "\u001b[36mpoly\u001b[39m: \u001b[32mPolynomial\u001b[39m = 1.0*x^0 + 2.0*x^1 "
      ]
     },
     "metadata": {},
     "output_type": "display_data"
    }
   ],
   "source": [
    "var coeffs = Array[Double](1.0, 2.0)\n",
    "var poly = new  Polynomial(coeffs)"
   ]
  },
  {
   "cell_type": "code",
   "execution_count": 88,
   "metadata": {},
   "outputs": [
    {
     "name": "stdout",
     "output_type": "stream",
     "text": [
      "(Maximum degree ,1)\n"
     ]
    }
   ],
   "source": [
    "System.out.println(\"Maximum degree \", poly.maxDegree)"
   ]
  },
  {
   "cell_type": "code",
   "execution_count": null,
   "metadata": {},
   "outputs": [],
   "source": []
  }
 ],
 "metadata": {
  "kernelspec": {
   "display_name": "Scala",
   "language": "scala",
   "name": "scala"
  },
  "language_info": {
   "codemirror_mode": "text/x-scala",
   "file_extension": ".sc",
   "mimetype": "text/x-scala",
   "name": "scala",
   "nbconvert_exporter": "script",
   "version": "2.13.3"
  }
 },
 "nbformat": 4,
 "nbformat_minor": 4
}
